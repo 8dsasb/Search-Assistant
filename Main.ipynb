{
  "nbformat": 4,
  "nbformat_minor": 0,
  "metadata": {
    "colab": {
      "provenance": []
    },
    "kernelspec": {
      "name": "python3",
      "display_name": "Python 3"
    },
    "language_info": {
      "name": "python"
    },
    "widgets": {
      "application/vnd.jupyter.widget-state+json": {
        "68517dd2e84c448eb2dc9821870745da": {
          "model_module": "@jupyter-widgets/controls",
          "model_name": "HBoxModel",
          "model_module_version": "1.5.0",
          "state": {
            "_dom_classes": [],
            "_model_module": "@jupyter-widgets/controls",
            "_model_module_version": "1.5.0",
            "_model_name": "HBoxModel",
            "_view_count": null,
            "_view_module": "@jupyter-widgets/controls",
            "_view_module_version": "1.5.0",
            "_view_name": "HBoxView",
            "box_style": "",
            "children": [
              "IPY_MODEL_e036ce18a6754a1f9e4637281dc48407",
              "IPY_MODEL_443765fe816d48918d55b79a9d839125",
              "IPY_MODEL_faa100f6f5414f7bba6d4d6e7f9a61b8"
            ],
            "layout": "IPY_MODEL_276130fcedeb43a28de9e173b9f9007e"
          }
        },
        "e036ce18a6754a1f9e4637281dc48407": {
          "model_module": "@jupyter-widgets/controls",
          "model_name": "HTMLModel",
          "model_module_version": "1.5.0",
          "state": {
            "_dom_classes": [],
            "_model_module": "@jupyter-widgets/controls",
            "_model_module_version": "1.5.0",
            "_model_name": "HTMLModel",
            "_view_count": null,
            "_view_module": "@jupyter-widgets/controls",
            "_view_module_version": "1.5.0",
            "_view_name": "HTMLView",
            "description": "",
            "description_tooltip": null,
            "layout": "IPY_MODEL_e00275c7001f45bfb41955c075c59972",
            "placeholder": "​",
            "style": "IPY_MODEL_f759a9bd96c94369b99a2446fa7342fa",
            "value": "config.json: 100%"
          }
        },
        "443765fe816d48918d55b79a9d839125": {
          "model_module": "@jupyter-widgets/controls",
          "model_name": "FloatProgressModel",
          "model_module_version": "1.5.0",
          "state": {
            "_dom_classes": [],
            "_model_module": "@jupyter-widgets/controls",
            "_model_module_version": "1.5.0",
            "_model_name": "FloatProgressModel",
            "_view_count": null,
            "_view_module": "@jupyter-widgets/controls",
            "_view_module_version": "1.5.0",
            "_view_name": "ProgressView",
            "bar_style": "success",
            "description": "",
            "description_tooltip": null,
            "layout": "IPY_MODEL_d83d71817d034e73a282b23b39f636df",
            "max": 1404,
            "min": 0,
            "orientation": "horizontal",
            "style": "IPY_MODEL_91fac859469640e7bb71dffdb01b15cb",
            "value": 1404
          }
        },
        "faa100f6f5414f7bba6d4d6e7f9a61b8": {
          "model_module": "@jupyter-widgets/controls",
          "model_name": "HTMLModel",
          "model_module_version": "1.5.0",
          "state": {
            "_dom_classes": [],
            "_model_module": "@jupyter-widgets/controls",
            "_model_module_version": "1.5.0",
            "_model_name": "HTMLModel",
            "_view_count": null,
            "_view_module": "@jupyter-widgets/controls",
            "_view_module_version": "1.5.0",
            "_view_name": "HTMLView",
            "description": "",
            "description_tooltip": null,
            "layout": "IPY_MODEL_f44148dfc4bc43dd826d616f16bcd362",
            "placeholder": "​",
            "style": "IPY_MODEL_2df4511abe18401ab5fcaaad1f45d4fe",
            "value": " 1.40k/1.40k [00:00&lt;00:00, 33.2kB/s]"
          }
        },
        "276130fcedeb43a28de9e173b9f9007e": {
          "model_module": "@jupyter-widgets/base",
          "model_name": "LayoutModel",
          "model_module_version": "1.2.0",
          "state": {
            "_model_module": "@jupyter-widgets/base",
            "_model_module_version": "1.2.0",
            "_model_name": "LayoutModel",
            "_view_count": null,
            "_view_module": "@jupyter-widgets/base",
            "_view_module_version": "1.2.0",
            "_view_name": "LayoutView",
            "align_content": null,
            "align_items": null,
            "align_self": null,
            "border": null,
            "bottom": null,
            "display": null,
            "flex": null,
            "flex_flow": null,
            "grid_area": null,
            "grid_auto_columns": null,
            "grid_auto_flow": null,
            "grid_auto_rows": null,
            "grid_column": null,
            "grid_gap": null,
            "grid_row": null,
            "grid_template_areas": null,
            "grid_template_columns": null,
            "grid_template_rows": null,
            "height": null,
            "justify_content": null,
            "justify_items": null,
            "left": null,
            "margin": null,
            "max_height": null,
            "max_width": null,
            "min_height": null,
            "min_width": null,
            "object_fit": null,
            "object_position": null,
            "order": null,
            "overflow": null,
            "overflow_x": null,
            "overflow_y": null,
            "padding": null,
            "right": null,
            "top": null,
            "visibility": null,
            "width": null
          }
        },
        "e00275c7001f45bfb41955c075c59972": {
          "model_module": "@jupyter-widgets/base",
          "model_name": "LayoutModel",
          "model_module_version": "1.2.0",
          "state": {
            "_model_module": "@jupyter-widgets/base",
            "_model_module_version": "1.2.0",
            "_model_name": "LayoutModel",
            "_view_count": null,
            "_view_module": "@jupyter-widgets/base",
            "_view_module_version": "1.2.0",
            "_view_name": "LayoutView",
            "align_content": null,
            "align_items": null,
            "align_self": null,
            "border": null,
            "bottom": null,
            "display": null,
            "flex": null,
            "flex_flow": null,
            "grid_area": null,
            "grid_auto_columns": null,
            "grid_auto_flow": null,
            "grid_auto_rows": null,
            "grid_column": null,
            "grid_gap": null,
            "grid_row": null,
            "grid_template_areas": null,
            "grid_template_columns": null,
            "grid_template_rows": null,
            "height": null,
            "justify_content": null,
            "justify_items": null,
            "left": null,
            "margin": null,
            "max_height": null,
            "max_width": null,
            "min_height": null,
            "min_width": null,
            "object_fit": null,
            "object_position": null,
            "order": null,
            "overflow": null,
            "overflow_x": null,
            "overflow_y": null,
            "padding": null,
            "right": null,
            "top": null,
            "visibility": null,
            "width": null
          }
        },
        "f759a9bd96c94369b99a2446fa7342fa": {
          "model_module": "@jupyter-widgets/controls",
          "model_name": "DescriptionStyleModel",
          "model_module_version": "1.5.0",
          "state": {
            "_model_module": "@jupyter-widgets/controls",
            "_model_module_version": "1.5.0",
            "_model_name": "DescriptionStyleModel",
            "_view_count": null,
            "_view_module": "@jupyter-widgets/base",
            "_view_module_version": "1.2.0",
            "_view_name": "StyleView",
            "description_width": ""
          }
        },
        "d83d71817d034e73a282b23b39f636df": {
          "model_module": "@jupyter-widgets/base",
          "model_name": "LayoutModel",
          "model_module_version": "1.2.0",
          "state": {
            "_model_module": "@jupyter-widgets/base",
            "_model_module_version": "1.2.0",
            "_model_name": "LayoutModel",
            "_view_count": null,
            "_view_module": "@jupyter-widgets/base",
            "_view_module_version": "1.2.0",
            "_view_name": "LayoutView",
            "align_content": null,
            "align_items": null,
            "align_self": null,
            "border": null,
            "bottom": null,
            "display": null,
            "flex": null,
            "flex_flow": null,
            "grid_area": null,
            "grid_auto_columns": null,
            "grid_auto_flow": null,
            "grid_auto_rows": null,
            "grid_column": null,
            "grid_gap": null,
            "grid_row": null,
            "grid_template_areas": null,
            "grid_template_columns": null,
            "grid_template_rows": null,
            "height": null,
            "justify_content": null,
            "justify_items": null,
            "left": null,
            "margin": null,
            "max_height": null,
            "max_width": null,
            "min_height": null,
            "min_width": null,
            "object_fit": null,
            "object_position": null,
            "order": null,
            "overflow": null,
            "overflow_x": null,
            "overflow_y": null,
            "padding": null,
            "right": null,
            "top": null,
            "visibility": null,
            "width": null
          }
        },
        "91fac859469640e7bb71dffdb01b15cb": {
          "model_module": "@jupyter-widgets/controls",
          "model_name": "ProgressStyleModel",
          "model_module_version": "1.5.0",
          "state": {
            "_model_module": "@jupyter-widgets/controls",
            "_model_module_version": "1.5.0",
            "_model_name": "ProgressStyleModel",
            "_view_count": null,
            "_view_module": "@jupyter-widgets/base",
            "_view_module_version": "1.2.0",
            "_view_name": "StyleView",
            "bar_color": null,
            "description_width": ""
          }
        },
        "f44148dfc4bc43dd826d616f16bcd362": {
          "model_module": "@jupyter-widgets/base",
          "model_name": "LayoutModel",
          "model_module_version": "1.2.0",
          "state": {
            "_model_module": "@jupyter-widgets/base",
            "_model_module_version": "1.2.0",
            "_model_name": "LayoutModel",
            "_view_count": null,
            "_view_module": "@jupyter-widgets/base",
            "_view_module_version": "1.2.0",
            "_view_name": "LayoutView",
            "align_content": null,
            "align_items": null,
            "align_self": null,
            "border": null,
            "bottom": null,
            "display": null,
            "flex": null,
            "flex_flow": null,
            "grid_area": null,
            "grid_auto_columns": null,
            "grid_auto_flow": null,
            "grid_auto_rows": null,
            "grid_column": null,
            "grid_gap": null,
            "grid_row": null,
            "grid_template_areas": null,
            "grid_template_columns": null,
            "grid_template_rows": null,
            "height": null,
            "justify_content": null,
            "justify_items": null,
            "left": null,
            "margin": null,
            "max_height": null,
            "max_width": null,
            "min_height": null,
            "min_width": null,
            "object_fit": null,
            "object_position": null,
            "order": null,
            "overflow": null,
            "overflow_x": null,
            "overflow_y": null,
            "padding": null,
            "right": null,
            "top": null,
            "visibility": null,
            "width": null
          }
        },
        "2df4511abe18401ab5fcaaad1f45d4fe": {
          "model_module": "@jupyter-widgets/controls",
          "model_name": "DescriptionStyleModel",
          "model_module_version": "1.5.0",
          "state": {
            "_model_module": "@jupyter-widgets/controls",
            "_model_module_version": "1.5.0",
            "_model_name": "DescriptionStyleModel",
            "_view_count": null,
            "_view_module": "@jupyter-widgets/base",
            "_view_module_version": "1.2.0",
            "_view_name": "StyleView",
            "description_width": ""
          }
        },
        "1e7274bd34024d85b62f656f7e883bfb": {
          "model_module": "@jupyter-widgets/controls",
          "model_name": "HBoxModel",
          "model_module_version": "1.5.0",
          "state": {
            "_dom_classes": [],
            "_model_module": "@jupyter-widgets/controls",
            "_model_module_version": "1.5.0",
            "_model_name": "HBoxModel",
            "_view_count": null,
            "_view_module": "@jupyter-widgets/controls",
            "_view_module_version": "1.5.0",
            "_view_name": "HBoxView",
            "box_style": "",
            "children": [
              "IPY_MODEL_7908ca181f3641499fd86884c49b26f2",
              "IPY_MODEL_18ceb3541590475a9e5a744f227b9635",
              "IPY_MODEL_987cdc586ef14903bc543a1d5939d66d"
            ],
            "layout": "IPY_MODEL_312c731e4c8d4d25905a8728ec8d20ab"
          }
        },
        "7908ca181f3641499fd86884c49b26f2": {
          "model_module": "@jupyter-widgets/controls",
          "model_name": "HTMLModel",
          "model_module_version": "1.5.0",
          "state": {
            "_dom_classes": [],
            "_model_module": "@jupyter-widgets/controls",
            "_model_module_version": "1.5.0",
            "_model_name": "HTMLModel",
            "_view_count": null,
            "_view_module": "@jupyter-widgets/controls",
            "_view_module_version": "1.5.0",
            "_view_name": "HTMLView",
            "description": "",
            "description_tooltip": null,
            "layout": "IPY_MODEL_31b8babcad9b4652a073809476686e0a",
            "placeholder": "​",
            "style": "IPY_MODEL_aaff775adba9411cbc20353d626ccd47",
            "value": "model.safetensors: 100%"
          }
        },
        "18ceb3541590475a9e5a744f227b9635": {
          "model_module": "@jupyter-widgets/controls",
          "model_name": "FloatProgressModel",
          "model_module_version": "1.5.0",
          "state": {
            "_dom_classes": [],
            "_model_module": "@jupyter-widgets/controls",
            "_model_module_version": "1.5.0",
            "_model_name": "FloatProgressModel",
            "_view_count": null,
            "_view_module": "@jupyter-widgets/controls",
            "_view_module_version": "1.5.0",
            "_view_name": "ProgressView",
            "bar_style": "success",
            "description": "",
            "description_tooltip": null,
            "layout": "IPY_MODEL_645a29f5217b4d188c713b53793d28de",
            "max": 990345061,
            "min": 0,
            "orientation": "horizontal",
            "style": "IPY_MODEL_64cafc06a5724eb59a6641c6dc1a3e48",
            "value": 990345061
          }
        },
        "987cdc586ef14903bc543a1d5939d66d": {
          "model_module": "@jupyter-widgets/controls",
          "model_name": "HTMLModel",
          "model_module_version": "1.5.0",
          "state": {
            "_dom_classes": [],
            "_model_module": "@jupyter-widgets/controls",
            "_model_module_version": "1.5.0",
            "_model_name": "HTMLModel",
            "_view_count": null,
            "_view_module": "@jupyter-widgets/controls",
            "_view_module_version": "1.5.0",
            "_view_name": "HTMLView",
            "description": "",
            "description_tooltip": null,
            "layout": "IPY_MODEL_7d092970b4f04d49b998a603dc08344d",
            "placeholder": "​",
            "style": "IPY_MODEL_be469baa6b784d019370b180982ebc2c",
            "value": " 990M/990M [00:38&lt;00:00, 30.3MB/s]"
          }
        },
        "312c731e4c8d4d25905a8728ec8d20ab": {
          "model_module": "@jupyter-widgets/base",
          "model_name": "LayoutModel",
          "model_module_version": "1.2.0",
          "state": {
            "_model_module": "@jupyter-widgets/base",
            "_model_module_version": "1.2.0",
            "_model_name": "LayoutModel",
            "_view_count": null,
            "_view_module": "@jupyter-widgets/base",
            "_view_module_version": "1.2.0",
            "_view_name": "LayoutView",
            "align_content": null,
            "align_items": null,
            "align_self": null,
            "border": null,
            "bottom": null,
            "display": null,
            "flex": null,
            "flex_flow": null,
            "grid_area": null,
            "grid_auto_columns": null,
            "grid_auto_flow": null,
            "grid_auto_rows": null,
            "grid_column": null,
            "grid_gap": null,
            "grid_row": null,
            "grid_template_areas": null,
            "grid_template_columns": null,
            "grid_template_rows": null,
            "height": null,
            "justify_content": null,
            "justify_items": null,
            "left": null,
            "margin": null,
            "max_height": null,
            "max_width": null,
            "min_height": null,
            "min_width": null,
            "object_fit": null,
            "object_position": null,
            "order": null,
            "overflow": null,
            "overflow_x": null,
            "overflow_y": null,
            "padding": null,
            "right": null,
            "top": null,
            "visibility": null,
            "width": null
          }
        },
        "31b8babcad9b4652a073809476686e0a": {
          "model_module": "@jupyter-widgets/base",
          "model_name": "LayoutModel",
          "model_module_version": "1.2.0",
          "state": {
            "_model_module": "@jupyter-widgets/base",
            "_model_module_version": "1.2.0",
            "_model_name": "LayoutModel",
            "_view_count": null,
            "_view_module": "@jupyter-widgets/base",
            "_view_module_version": "1.2.0",
            "_view_name": "LayoutView",
            "align_content": null,
            "align_items": null,
            "align_self": null,
            "border": null,
            "bottom": null,
            "display": null,
            "flex": null,
            "flex_flow": null,
            "grid_area": null,
            "grid_auto_columns": null,
            "grid_auto_flow": null,
            "grid_auto_rows": null,
            "grid_column": null,
            "grid_gap": null,
            "grid_row": null,
            "grid_template_areas": null,
            "grid_template_columns": null,
            "grid_template_rows": null,
            "height": null,
            "justify_content": null,
            "justify_items": null,
            "left": null,
            "margin": null,
            "max_height": null,
            "max_width": null,
            "min_height": null,
            "min_width": null,
            "object_fit": null,
            "object_position": null,
            "order": null,
            "overflow": null,
            "overflow_x": null,
            "overflow_y": null,
            "padding": null,
            "right": null,
            "top": null,
            "visibility": null,
            "width": null
          }
        },
        "aaff775adba9411cbc20353d626ccd47": {
          "model_module": "@jupyter-widgets/controls",
          "model_name": "DescriptionStyleModel",
          "model_module_version": "1.5.0",
          "state": {
            "_model_module": "@jupyter-widgets/controls",
            "_model_module_version": "1.5.0",
            "_model_name": "DescriptionStyleModel",
            "_view_count": null,
            "_view_module": "@jupyter-widgets/base",
            "_view_module_version": "1.2.0",
            "_view_name": "StyleView",
            "description_width": ""
          }
        },
        "645a29f5217b4d188c713b53793d28de": {
          "model_module": "@jupyter-widgets/base",
          "model_name": "LayoutModel",
          "model_module_version": "1.2.0",
          "state": {
            "_model_module": "@jupyter-widgets/base",
            "_model_module_version": "1.2.0",
            "_model_name": "LayoutModel",
            "_view_count": null,
            "_view_module": "@jupyter-widgets/base",
            "_view_module_version": "1.2.0",
            "_view_name": "LayoutView",
            "align_content": null,
            "align_items": null,
            "align_self": null,
            "border": null,
            "bottom": null,
            "display": null,
            "flex": null,
            "flex_flow": null,
            "grid_area": null,
            "grid_auto_columns": null,
            "grid_auto_flow": null,
            "grid_auto_rows": null,
            "grid_column": null,
            "grid_gap": null,
            "grid_row": null,
            "grid_template_areas": null,
            "grid_template_columns": null,
            "grid_template_rows": null,
            "height": null,
            "justify_content": null,
            "justify_items": null,
            "left": null,
            "margin": null,
            "max_height": null,
            "max_width": null,
            "min_height": null,
            "min_width": null,
            "object_fit": null,
            "object_position": null,
            "order": null,
            "overflow": null,
            "overflow_x": null,
            "overflow_y": null,
            "padding": null,
            "right": null,
            "top": null,
            "visibility": null,
            "width": null
          }
        },
        "64cafc06a5724eb59a6641c6dc1a3e48": {
          "model_module": "@jupyter-widgets/controls",
          "model_name": "ProgressStyleModel",
          "model_module_version": "1.5.0",
          "state": {
            "_model_module": "@jupyter-widgets/controls",
            "_model_module_version": "1.5.0",
            "_model_name": "ProgressStyleModel",
            "_view_count": null,
            "_view_module": "@jupyter-widgets/base",
            "_view_module_version": "1.2.0",
            "_view_name": "StyleView",
            "bar_color": null,
            "description_width": ""
          }
        },
        "7d092970b4f04d49b998a603dc08344d": {
          "model_module": "@jupyter-widgets/base",
          "model_name": "LayoutModel",
          "model_module_version": "1.2.0",
          "state": {
            "_model_module": "@jupyter-widgets/base",
            "_model_module_version": "1.2.0",
            "_model_name": "LayoutModel",
            "_view_count": null,
            "_view_module": "@jupyter-widgets/base",
            "_view_module_version": "1.2.0",
            "_view_name": "LayoutView",
            "align_content": null,
            "align_items": null,
            "align_self": null,
            "border": null,
            "bottom": null,
            "display": null,
            "flex": null,
            "flex_flow": null,
            "grid_area": null,
            "grid_auto_columns": null,
            "grid_auto_flow": null,
            "grid_auto_rows": null,
            "grid_column": null,
            "grid_gap": null,
            "grid_row": null,
            "grid_template_areas": null,
            "grid_template_columns": null,
            "grid_template_rows": null,
            "height": null,
            "justify_content": null,
            "justify_items": null,
            "left": null,
            "margin": null,
            "max_height": null,
            "max_width": null,
            "min_height": null,
            "min_width": null,
            "object_fit": null,
            "object_position": null,
            "order": null,
            "overflow": null,
            "overflow_x": null,
            "overflow_y": null,
            "padding": null,
            "right": null,
            "top": null,
            "visibility": null,
            "width": null
          }
        },
        "be469baa6b784d019370b180982ebc2c": {
          "model_module": "@jupyter-widgets/controls",
          "model_name": "DescriptionStyleModel",
          "model_module_version": "1.5.0",
          "state": {
            "_model_module": "@jupyter-widgets/controls",
            "_model_module_version": "1.5.0",
            "_model_name": "DescriptionStyleModel",
            "_view_count": null,
            "_view_module": "@jupyter-widgets/base",
            "_view_module_version": "1.2.0",
            "_view_name": "StyleView",
            "description_width": ""
          }
        },
        "6150b2b530364cdea7a6bffa168ba8d1": {
          "model_module": "@jupyter-widgets/controls",
          "model_name": "HBoxModel",
          "model_module_version": "1.5.0",
          "state": {
            "_dom_classes": [],
            "_model_module": "@jupyter-widgets/controls",
            "_model_module_version": "1.5.0",
            "_model_name": "HBoxModel",
            "_view_count": null,
            "_view_module": "@jupyter-widgets/controls",
            "_view_module_version": "1.5.0",
            "_view_name": "HBoxView",
            "box_style": "",
            "children": [
              "IPY_MODEL_da7d1930a63647dba1dbf1928bfe358c",
              "IPY_MODEL_d3c1bd731c9443489a23a52aa3c3ab22",
              "IPY_MODEL_a177edd15b8b479981d6c7b4e1fda687"
            ],
            "layout": "IPY_MODEL_bc75ce5dc8494b469bf0a20329cc7a43"
          }
        },
        "da7d1930a63647dba1dbf1928bfe358c": {
          "model_module": "@jupyter-widgets/controls",
          "model_name": "HTMLModel",
          "model_module_version": "1.5.0",
          "state": {
            "_dom_classes": [],
            "_model_module": "@jupyter-widgets/controls",
            "_model_module_version": "1.5.0",
            "_model_name": "HTMLModel",
            "_view_count": null,
            "_view_module": "@jupyter-widgets/controls",
            "_view_module_version": "1.5.0",
            "_view_name": "HTMLView",
            "description": "",
            "description_tooltip": null,
            "layout": "IPY_MODEL_533c1061d7774ada8e2f882f15e90ee5",
            "placeholder": "​",
            "style": "IPY_MODEL_72d1dafd4e5d44a38caad7fbcc1b3ce4",
            "value": "generation_config.json: 100%"
          }
        },
        "d3c1bd731c9443489a23a52aa3c3ab22": {
          "model_module": "@jupyter-widgets/controls",
          "model_name": "FloatProgressModel",
          "model_module_version": "1.5.0",
          "state": {
            "_dom_classes": [],
            "_model_module": "@jupyter-widgets/controls",
            "_model_module_version": "1.5.0",
            "_model_name": "FloatProgressModel",
            "_view_count": null,
            "_view_module": "@jupyter-widgets/controls",
            "_view_module_version": "1.5.0",
            "_view_name": "ProgressView",
            "bar_style": "success",
            "description": "",
            "description_tooltip": null,
            "layout": "IPY_MODEL_092c6797376347a8920295c81693d6f0",
            "max": 147,
            "min": 0,
            "orientation": "horizontal",
            "style": "IPY_MODEL_c78f979dff82444a9a437a5acba7947b",
            "value": 147
          }
        },
        "a177edd15b8b479981d6c7b4e1fda687": {
          "model_module": "@jupyter-widgets/controls",
          "model_name": "HTMLModel",
          "model_module_version": "1.5.0",
          "state": {
            "_dom_classes": [],
            "_model_module": "@jupyter-widgets/controls",
            "_model_module_version": "1.5.0",
            "_model_name": "HTMLModel",
            "_view_count": null,
            "_view_module": "@jupyter-widgets/controls",
            "_view_module_version": "1.5.0",
            "_view_name": "HTMLView",
            "description": "",
            "description_tooltip": null,
            "layout": "IPY_MODEL_0bda3487fee440b48f7d9395e4693068",
            "placeholder": "​",
            "style": "IPY_MODEL_1c2fecc121174e8fb34c2783506ecded",
            "value": " 147/147 [00:00&lt;00:00, 3.76kB/s]"
          }
        },
        "bc75ce5dc8494b469bf0a20329cc7a43": {
          "model_module": "@jupyter-widgets/base",
          "model_name": "LayoutModel",
          "model_module_version": "1.2.0",
          "state": {
            "_model_module": "@jupyter-widgets/base",
            "_model_module_version": "1.2.0",
            "_model_name": "LayoutModel",
            "_view_count": null,
            "_view_module": "@jupyter-widgets/base",
            "_view_module_version": "1.2.0",
            "_view_name": "LayoutView",
            "align_content": null,
            "align_items": null,
            "align_self": null,
            "border": null,
            "bottom": null,
            "display": null,
            "flex": null,
            "flex_flow": null,
            "grid_area": null,
            "grid_auto_columns": null,
            "grid_auto_flow": null,
            "grid_auto_rows": null,
            "grid_column": null,
            "grid_gap": null,
            "grid_row": null,
            "grid_template_areas": null,
            "grid_template_columns": null,
            "grid_template_rows": null,
            "height": null,
            "justify_content": null,
            "justify_items": null,
            "left": null,
            "margin": null,
            "max_height": null,
            "max_width": null,
            "min_height": null,
            "min_width": null,
            "object_fit": null,
            "object_position": null,
            "order": null,
            "overflow": null,
            "overflow_x": null,
            "overflow_y": null,
            "padding": null,
            "right": null,
            "top": null,
            "visibility": null,
            "width": null
          }
        },
        "533c1061d7774ada8e2f882f15e90ee5": {
          "model_module": "@jupyter-widgets/base",
          "model_name": "LayoutModel",
          "model_module_version": "1.2.0",
          "state": {
            "_model_module": "@jupyter-widgets/base",
            "_model_module_version": "1.2.0",
            "_model_name": "LayoutModel",
            "_view_count": null,
            "_view_module": "@jupyter-widgets/base",
            "_view_module_version": "1.2.0",
            "_view_name": "LayoutView",
            "align_content": null,
            "align_items": null,
            "align_self": null,
            "border": null,
            "bottom": null,
            "display": null,
            "flex": null,
            "flex_flow": null,
            "grid_area": null,
            "grid_auto_columns": null,
            "grid_auto_flow": null,
            "grid_auto_rows": null,
            "grid_column": null,
            "grid_gap": null,
            "grid_row": null,
            "grid_template_areas": null,
            "grid_template_columns": null,
            "grid_template_rows": null,
            "height": null,
            "justify_content": null,
            "justify_items": null,
            "left": null,
            "margin": null,
            "max_height": null,
            "max_width": null,
            "min_height": null,
            "min_width": null,
            "object_fit": null,
            "object_position": null,
            "order": null,
            "overflow": null,
            "overflow_x": null,
            "overflow_y": null,
            "padding": null,
            "right": null,
            "top": null,
            "visibility": null,
            "width": null
          }
        },
        "72d1dafd4e5d44a38caad7fbcc1b3ce4": {
          "model_module": "@jupyter-widgets/controls",
          "model_name": "DescriptionStyleModel",
          "model_module_version": "1.5.0",
          "state": {
            "_model_module": "@jupyter-widgets/controls",
            "_model_module_version": "1.5.0",
            "_model_name": "DescriptionStyleModel",
            "_view_count": null,
            "_view_module": "@jupyter-widgets/base",
            "_view_module_version": "1.2.0",
            "_view_name": "StyleView",
            "description_width": ""
          }
        },
        "092c6797376347a8920295c81693d6f0": {
          "model_module": "@jupyter-widgets/base",
          "model_name": "LayoutModel",
          "model_module_version": "1.2.0",
          "state": {
            "_model_module": "@jupyter-widgets/base",
            "_model_module_version": "1.2.0",
            "_model_name": "LayoutModel",
            "_view_count": null,
            "_view_module": "@jupyter-widgets/base",
            "_view_module_version": "1.2.0",
            "_view_name": "LayoutView",
            "align_content": null,
            "align_items": null,
            "align_self": null,
            "border": null,
            "bottom": null,
            "display": null,
            "flex": null,
            "flex_flow": null,
            "grid_area": null,
            "grid_auto_columns": null,
            "grid_auto_flow": null,
            "grid_auto_rows": null,
            "grid_column": null,
            "grid_gap": null,
            "grid_row": null,
            "grid_template_areas": null,
            "grid_template_columns": null,
            "grid_template_rows": null,
            "height": null,
            "justify_content": null,
            "justify_items": null,
            "left": null,
            "margin": null,
            "max_height": null,
            "max_width": null,
            "min_height": null,
            "min_width": null,
            "object_fit": null,
            "object_position": null,
            "order": null,
            "overflow": null,
            "overflow_x": null,
            "overflow_y": null,
            "padding": null,
            "right": null,
            "top": null,
            "visibility": null,
            "width": null
          }
        },
        "c78f979dff82444a9a437a5acba7947b": {
          "model_module": "@jupyter-widgets/controls",
          "model_name": "ProgressStyleModel",
          "model_module_version": "1.5.0",
          "state": {
            "_model_module": "@jupyter-widgets/controls",
            "_model_module_version": "1.5.0",
            "_model_name": "ProgressStyleModel",
            "_view_count": null,
            "_view_module": "@jupyter-widgets/base",
            "_view_module_version": "1.2.0",
            "_view_name": "StyleView",
            "bar_color": null,
            "description_width": ""
          }
        },
        "0bda3487fee440b48f7d9395e4693068": {
          "model_module": "@jupyter-widgets/base",
          "model_name": "LayoutModel",
          "model_module_version": "1.2.0",
          "state": {
            "_model_module": "@jupyter-widgets/base",
            "_model_module_version": "1.2.0",
            "_model_name": "LayoutModel",
            "_view_count": null,
            "_view_module": "@jupyter-widgets/base",
            "_view_module_version": "1.2.0",
            "_view_name": "LayoutView",
            "align_content": null,
            "align_items": null,
            "align_self": null,
            "border": null,
            "bottom": null,
            "display": null,
            "flex": null,
            "flex_flow": null,
            "grid_area": null,
            "grid_auto_columns": null,
            "grid_auto_flow": null,
            "grid_auto_rows": null,
            "grid_column": null,
            "grid_gap": null,
            "grid_row": null,
            "grid_template_areas": null,
            "grid_template_columns": null,
            "grid_template_rows": null,
            "height": null,
            "justify_content": null,
            "justify_items": null,
            "left": null,
            "margin": null,
            "max_height": null,
            "max_width": null,
            "min_height": null,
            "min_width": null,
            "object_fit": null,
            "object_position": null,
            "order": null,
            "overflow": null,
            "overflow_x": null,
            "overflow_y": null,
            "padding": null,
            "right": null,
            "top": null,
            "visibility": null,
            "width": null
          }
        },
        "1c2fecc121174e8fb34c2783506ecded": {
          "model_module": "@jupyter-widgets/controls",
          "model_name": "DescriptionStyleModel",
          "model_module_version": "1.5.0",
          "state": {
            "_model_module": "@jupyter-widgets/controls",
            "_model_module_version": "1.5.0",
            "_model_name": "DescriptionStyleModel",
            "_view_count": null,
            "_view_module": "@jupyter-widgets/base",
            "_view_module_version": "1.2.0",
            "_view_name": "StyleView",
            "description_width": ""
          }
        },
        "c04213b4f68f455faafb133bdbe5de1c": {
          "model_module": "@jupyter-widgets/controls",
          "model_name": "HBoxModel",
          "model_module_version": "1.5.0",
          "state": {
            "_dom_classes": [],
            "_model_module": "@jupyter-widgets/controls",
            "_model_module_version": "1.5.0",
            "_model_name": "HBoxModel",
            "_view_count": null,
            "_view_module": "@jupyter-widgets/controls",
            "_view_module_version": "1.5.0",
            "_view_name": "HBoxView",
            "box_style": "",
            "children": [
              "IPY_MODEL_94c6ad5826ca42de8cfcf6cc52eae608",
              "IPY_MODEL_c4cbb5b000db4ea0ab8307700cb1eac3",
              "IPY_MODEL_8d3184af6c4244d18378fc0a7926067a"
            ],
            "layout": "IPY_MODEL_d07a3fe7da664378b85208f079e3d9ea"
          }
        },
        "94c6ad5826ca42de8cfcf6cc52eae608": {
          "model_module": "@jupyter-widgets/controls",
          "model_name": "HTMLModel",
          "model_module_version": "1.5.0",
          "state": {
            "_dom_classes": [],
            "_model_module": "@jupyter-widgets/controls",
            "_model_module_version": "1.5.0",
            "_model_name": "HTMLModel",
            "_view_count": null,
            "_view_module": "@jupyter-widgets/controls",
            "_view_module_version": "1.5.0",
            "_view_name": "HTMLView",
            "description": "",
            "description_tooltip": null,
            "layout": "IPY_MODEL_68e46bcad76042e28fe878d93e7b5dc5",
            "placeholder": "​",
            "style": "IPY_MODEL_6358c4a9fd9a492dbbaae86559a24dd8",
            "value": "tokenizer_config.json: 100%"
          }
        },
        "c4cbb5b000db4ea0ab8307700cb1eac3": {
          "model_module": "@jupyter-widgets/controls",
          "model_name": "FloatProgressModel",
          "model_module_version": "1.5.0",
          "state": {
            "_dom_classes": [],
            "_model_module": "@jupyter-widgets/controls",
            "_model_module_version": "1.5.0",
            "_model_name": "FloatProgressModel",
            "_view_count": null,
            "_view_module": "@jupyter-widgets/controls",
            "_view_module_version": "1.5.0",
            "_view_name": "ProgressView",
            "bar_style": "success",
            "description": "",
            "description_tooltip": null,
            "layout": "IPY_MODEL_9b4f99ed88794a08af316780872270ab",
            "max": 2537,
            "min": 0,
            "orientation": "horizontal",
            "style": "IPY_MODEL_26ca9fa9e689436a8f771c9b825ebdca",
            "value": 2537
          }
        },
        "8d3184af6c4244d18378fc0a7926067a": {
          "model_module": "@jupyter-widgets/controls",
          "model_name": "HTMLModel",
          "model_module_version": "1.5.0",
          "state": {
            "_dom_classes": [],
            "_model_module": "@jupyter-widgets/controls",
            "_model_module_version": "1.5.0",
            "_model_name": "HTMLModel",
            "_view_count": null,
            "_view_module": "@jupyter-widgets/controls",
            "_view_module_version": "1.5.0",
            "_view_name": "HTMLView",
            "description": "",
            "description_tooltip": null,
            "layout": "IPY_MODEL_4a9df7dbc7bb4787b5f5e48c514755c4",
            "placeholder": "​",
            "style": "IPY_MODEL_fed8bc6987cc4b92aadc80a369dedaf3",
            "value": " 2.54k/2.54k [00:00&lt;00:00, 73.8kB/s]"
          }
        },
        "d07a3fe7da664378b85208f079e3d9ea": {
          "model_module": "@jupyter-widgets/base",
          "model_name": "LayoutModel",
          "model_module_version": "1.2.0",
          "state": {
            "_model_module": "@jupyter-widgets/base",
            "_model_module_version": "1.2.0",
            "_model_name": "LayoutModel",
            "_view_count": null,
            "_view_module": "@jupyter-widgets/base",
            "_view_module_version": "1.2.0",
            "_view_name": "LayoutView",
            "align_content": null,
            "align_items": null,
            "align_self": null,
            "border": null,
            "bottom": null,
            "display": null,
            "flex": null,
            "flex_flow": null,
            "grid_area": null,
            "grid_auto_columns": null,
            "grid_auto_flow": null,
            "grid_auto_rows": null,
            "grid_column": null,
            "grid_gap": null,
            "grid_row": null,
            "grid_template_areas": null,
            "grid_template_columns": null,
            "grid_template_rows": null,
            "height": null,
            "justify_content": null,
            "justify_items": null,
            "left": null,
            "margin": null,
            "max_height": null,
            "max_width": null,
            "min_height": null,
            "min_width": null,
            "object_fit": null,
            "object_position": null,
            "order": null,
            "overflow": null,
            "overflow_x": null,
            "overflow_y": null,
            "padding": null,
            "right": null,
            "top": null,
            "visibility": null,
            "width": null
          }
        },
        "68e46bcad76042e28fe878d93e7b5dc5": {
          "model_module": "@jupyter-widgets/base",
          "model_name": "LayoutModel",
          "model_module_version": "1.2.0",
          "state": {
            "_model_module": "@jupyter-widgets/base",
            "_model_module_version": "1.2.0",
            "_model_name": "LayoutModel",
            "_view_count": null,
            "_view_module": "@jupyter-widgets/base",
            "_view_module_version": "1.2.0",
            "_view_name": "LayoutView",
            "align_content": null,
            "align_items": null,
            "align_self": null,
            "border": null,
            "bottom": null,
            "display": null,
            "flex": null,
            "flex_flow": null,
            "grid_area": null,
            "grid_auto_columns": null,
            "grid_auto_flow": null,
            "grid_auto_rows": null,
            "grid_column": null,
            "grid_gap": null,
            "grid_row": null,
            "grid_template_areas": null,
            "grid_template_columns": null,
            "grid_template_rows": null,
            "height": null,
            "justify_content": null,
            "justify_items": null,
            "left": null,
            "margin": null,
            "max_height": null,
            "max_width": null,
            "min_height": null,
            "min_width": null,
            "object_fit": null,
            "object_position": null,
            "order": null,
            "overflow": null,
            "overflow_x": null,
            "overflow_y": null,
            "padding": null,
            "right": null,
            "top": null,
            "visibility": null,
            "width": null
          }
        },
        "6358c4a9fd9a492dbbaae86559a24dd8": {
          "model_module": "@jupyter-widgets/controls",
          "model_name": "DescriptionStyleModel",
          "model_module_version": "1.5.0",
          "state": {
            "_model_module": "@jupyter-widgets/controls",
            "_model_module_version": "1.5.0",
            "_model_name": "DescriptionStyleModel",
            "_view_count": null,
            "_view_module": "@jupyter-widgets/base",
            "_view_module_version": "1.2.0",
            "_view_name": "StyleView",
            "description_width": ""
          }
        },
        "9b4f99ed88794a08af316780872270ab": {
          "model_module": "@jupyter-widgets/base",
          "model_name": "LayoutModel",
          "model_module_version": "1.2.0",
          "state": {
            "_model_module": "@jupyter-widgets/base",
            "_model_module_version": "1.2.0",
            "_model_name": "LayoutModel",
            "_view_count": null,
            "_view_module": "@jupyter-widgets/base",
            "_view_module_version": "1.2.0",
            "_view_name": "LayoutView",
            "align_content": null,
            "align_items": null,
            "align_self": null,
            "border": null,
            "bottom": null,
            "display": null,
            "flex": null,
            "flex_flow": null,
            "grid_area": null,
            "grid_auto_columns": null,
            "grid_auto_flow": null,
            "grid_auto_rows": null,
            "grid_column": null,
            "grid_gap": null,
            "grid_row": null,
            "grid_template_areas": null,
            "grid_template_columns": null,
            "grid_template_rows": null,
            "height": null,
            "justify_content": null,
            "justify_items": null,
            "left": null,
            "margin": null,
            "max_height": null,
            "max_width": null,
            "min_height": null,
            "min_width": null,
            "object_fit": null,
            "object_position": null,
            "order": null,
            "overflow": null,
            "overflow_x": null,
            "overflow_y": null,
            "padding": null,
            "right": null,
            "top": null,
            "visibility": null,
            "width": null
          }
        },
        "26ca9fa9e689436a8f771c9b825ebdca": {
          "model_module": "@jupyter-widgets/controls",
          "model_name": "ProgressStyleModel",
          "model_module_version": "1.5.0",
          "state": {
            "_model_module": "@jupyter-widgets/controls",
            "_model_module_version": "1.5.0",
            "_model_name": "ProgressStyleModel",
            "_view_count": null,
            "_view_module": "@jupyter-widgets/base",
            "_view_module_version": "1.2.0",
            "_view_name": "StyleView",
            "bar_color": null,
            "description_width": ""
          }
        },
        "4a9df7dbc7bb4787b5f5e48c514755c4": {
          "model_module": "@jupyter-widgets/base",
          "model_name": "LayoutModel",
          "model_module_version": "1.2.0",
          "state": {
            "_model_module": "@jupyter-widgets/base",
            "_model_module_version": "1.2.0",
            "_model_name": "LayoutModel",
            "_view_count": null,
            "_view_module": "@jupyter-widgets/base",
            "_view_module_version": "1.2.0",
            "_view_name": "LayoutView",
            "align_content": null,
            "align_items": null,
            "align_self": null,
            "border": null,
            "bottom": null,
            "display": null,
            "flex": null,
            "flex_flow": null,
            "grid_area": null,
            "grid_auto_columns": null,
            "grid_auto_flow": null,
            "grid_auto_rows": null,
            "grid_column": null,
            "grid_gap": null,
            "grid_row": null,
            "grid_template_areas": null,
            "grid_template_columns": null,
            "grid_template_rows": null,
            "height": null,
            "justify_content": null,
            "justify_items": null,
            "left": null,
            "margin": null,
            "max_height": null,
            "max_width": null,
            "min_height": null,
            "min_width": null,
            "object_fit": null,
            "object_position": null,
            "order": null,
            "overflow": null,
            "overflow_x": null,
            "overflow_y": null,
            "padding": null,
            "right": null,
            "top": null,
            "visibility": null,
            "width": null
          }
        },
        "fed8bc6987cc4b92aadc80a369dedaf3": {
          "model_module": "@jupyter-widgets/controls",
          "model_name": "DescriptionStyleModel",
          "model_module_version": "1.5.0",
          "state": {
            "_model_module": "@jupyter-widgets/controls",
            "_model_module_version": "1.5.0",
            "_model_name": "DescriptionStyleModel",
            "_view_count": null,
            "_view_module": "@jupyter-widgets/base",
            "_view_module_version": "1.2.0",
            "_view_name": "StyleView",
            "description_width": ""
          }
        },
        "c3e2c681f91a47c8a312955a92930396": {
          "model_module": "@jupyter-widgets/controls",
          "model_name": "HBoxModel",
          "model_module_version": "1.5.0",
          "state": {
            "_dom_classes": [],
            "_model_module": "@jupyter-widgets/controls",
            "_model_module_version": "1.5.0",
            "_model_name": "HBoxModel",
            "_view_count": null,
            "_view_module": "@jupyter-widgets/controls",
            "_view_module_version": "1.5.0",
            "_view_name": "HBoxView",
            "box_style": "",
            "children": [
              "IPY_MODEL_42081643ef5b458d9aefda237548b361",
              "IPY_MODEL_1c16616a72a944b9adecfd5c7b5164f9",
              "IPY_MODEL_c94776bb25ba458fb37a22f6a810897e"
            ],
            "layout": "IPY_MODEL_e14f52a9b96c442eacfcde3c9f62b3ed"
          }
        },
        "42081643ef5b458d9aefda237548b361": {
          "model_module": "@jupyter-widgets/controls",
          "model_name": "HTMLModel",
          "model_module_version": "1.5.0",
          "state": {
            "_dom_classes": [],
            "_model_module": "@jupyter-widgets/controls",
            "_model_module_version": "1.5.0",
            "_model_name": "HTMLModel",
            "_view_count": null,
            "_view_module": "@jupyter-widgets/controls",
            "_view_module_version": "1.5.0",
            "_view_name": "HTMLView",
            "description": "",
            "description_tooltip": null,
            "layout": "IPY_MODEL_1d00413e4acb4cd5bb05c72e99ffe496",
            "placeholder": "​",
            "style": "IPY_MODEL_a6e7d598f40648f7b5106357980a20bd",
            "value": "spiece.model: 100%"
          }
        },
        "1c16616a72a944b9adecfd5c7b5164f9": {
          "model_module": "@jupyter-widgets/controls",
          "model_name": "FloatProgressModel",
          "model_module_version": "1.5.0",
          "state": {
            "_dom_classes": [],
            "_model_module": "@jupyter-widgets/controls",
            "_model_module_version": "1.5.0",
            "_model_name": "FloatProgressModel",
            "_view_count": null,
            "_view_module": "@jupyter-widgets/controls",
            "_view_module_version": "1.5.0",
            "_view_name": "ProgressView",
            "bar_style": "success",
            "description": "",
            "description_tooltip": null,
            "layout": "IPY_MODEL_8c9f85ac0786401d81b17037791377de",
            "max": 791656,
            "min": 0,
            "orientation": "horizontal",
            "style": "IPY_MODEL_7b032c47364846c688382706b655a83b",
            "value": 791656
          }
        },
        "c94776bb25ba458fb37a22f6a810897e": {
          "model_module": "@jupyter-widgets/controls",
          "model_name": "HTMLModel",
          "model_module_version": "1.5.0",
          "state": {
            "_dom_classes": [],
            "_model_module": "@jupyter-widgets/controls",
            "_model_module_version": "1.5.0",
            "_model_name": "HTMLModel",
            "_view_count": null,
            "_view_module": "@jupyter-widgets/controls",
            "_view_module_version": "1.5.0",
            "_view_name": "HTMLView",
            "description": "",
            "description_tooltip": null,
            "layout": "IPY_MODEL_1349623156234e57ad9e75aac25d9383",
            "placeholder": "​",
            "style": "IPY_MODEL_3e68a4a8aa3b46b1b09c6a8700822474",
            "value": " 792k/792k [00:00&lt;00:00, 1.47MB/s]"
          }
        },
        "e14f52a9b96c442eacfcde3c9f62b3ed": {
          "model_module": "@jupyter-widgets/base",
          "model_name": "LayoutModel",
          "model_module_version": "1.2.0",
          "state": {
            "_model_module": "@jupyter-widgets/base",
            "_model_module_version": "1.2.0",
            "_model_name": "LayoutModel",
            "_view_count": null,
            "_view_module": "@jupyter-widgets/base",
            "_view_module_version": "1.2.0",
            "_view_name": "LayoutView",
            "align_content": null,
            "align_items": null,
            "align_self": null,
            "border": null,
            "bottom": null,
            "display": null,
            "flex": null,
            "flex_flow": null,
            "grid_area": null,
            "grid_auto_columns": null,
            "grid_auto_flow": null,
            "grid_auto_rows": null,
            "grid_column": null,
            "grid_gap": null,
            "grid_row": null,
            "grid_template_areas": null,
            "grid_template_columns": null,
            "grid_template_rows": null,
            "height": null,
            "justify_content": null,
            "justify_items": null,
            "left": null,
            "margin": null,
            "max_height": null,
            "max_width": null,
            "min_height": null,
            "min_width": null,
            "object_fit": null,
            "object_position": null,
            "order": null,
            "overflow": null,
            "overflow_x": null,
            "overflow_y": null,
            "padding": null,
            "right": null,
            "top": null,
            "visibility": null,
            "width": null
          }
        },
        "1d00413e4acb4cd5bb05c72e99ffe496": {
          "model_module": "@jupyter-widgets/base",
          "model_name": "LayoutModel",
          "model_module_version": "1.2.0",
          "state": {
            "_model_module": "@jupyter-widgets/base",
            "_model_module_version": "1.2.0",
            "_model_name": "LayoutModel",
            "_view_count": null,
            "_view_module": "@jupyter-widgets/base",
            "_view_module_version": "1.2.0",
            "_view_name": "LayoutView",
            "align_content": null,
            "align_items": null,
            "align_self": null,
            "border": null,
            "bottom": null,
            "display": null,
            "flex": null,
            "flex_flow": null,
            "grid_area": null,
            "grid_auto_columns": null,
            "grid_auto_flow": null,
            "grid_auto_rows": null,
            "grid_column": null,
            "grid_gap": null,
            "grid_row": null,
            "grid_template_areas": null,
            "grid_template_columns": null,
            "grid_template_rows": null,
            "height": null,
            "justify_content": null,
            "justify_items": null,
            "left": null,
            "margin": null,
            "max_height": null,
            "max_width": null,
            "min_height": null,
            "min_width": null,
            "object_fit": null,
            "object_position": null,
            "order": null,
            "overflow": null,
            "overflow_x": null,
            "overflow_y": null,
            "padding": null,
            "right": null,
            "top": null,
            "visibility": null,
            "width": null
          }
        },
        "a6e7d598f40648f7b5106357980a20bd": {
          "model_module": "@jupyter-widgets/controls",
          "model_name": "DescriptionStyleModel",
          "model_module_version": "1.5.0",
          "state": {
            "_model_module": "@jupyter-widgets/controls",
            "_model_module_version": "1.5.0",
            "_model_name": "DescriptionStyleModel",
            "_view_count": null,
            "_view_module": "@jupyter-widgets/base",
            "_view_module_version": "1.2.0",
            "_view_name": "StyleView",
            "description_width": ""
          }
        },
        "8c9f85ac0786401d81b17037791377de": {
          "model_module": "@jupyter-widgets/base",
          "model_name": "LayoutModel",
          "model_module_version": "1.2.0",
          "state": {
            "_model_module": "@jupyter-widgets/base",
            "_model_module_version": "1.2.0",
            "_model_name": "LayoutModel",
            "_view_count": null,
            "_view_module": "@jupyter-widgets/base",
            "_view_module_version": "1.2.0",
            "_view_name": "LayoutView",
            "align_content": null,
            "align_items": null,
            "align_self": null,
            "border": null,
            "bottom": null,
            "display": null,
            "flex": null,
            "flex_flow": null,
            "grid_area": null,
            "grid_auto_columns": null,
            "grid_auto_flow": null,
            "grid_auto_rows": null,
            "grid_column": null,
            "grid_gap": null,
            "grid_row": null,
            "grid_template_areas": null,
            "grid_template_columns": null,
            "grid_template_rows": null,
            "height": null,
            "justify_content": null,
            "justify_items": null,
            "left": null,
            "margin": null,
            "max_height": null,
            "max_width": null,
            "min_height": null,
            "min_width": null,
            "object_fit": null,
            "object_position": null,
            "order": null,
            "overflow": null,
            "overflow_x": null,
            "overflow_y": null,
            "padding": null,
            "right": null,
            "top": null,
            "visibility": null,
            "width": null
          }
        },
        "7b032c47364846c688382706b655a83b": {
          "model_module": "@jupyter-widgets/controls",
          "model_name": "ProgressStyleModel",
          "model_module_version": "1.5.0",
          "state": {
            "_model_module": "@jupyter-widgets/controls",
            "_model_module_version": "1.5.0",
            "_model_name": "ProgressStyleModel",
            "_view_count": null,
            "_view_module": "@jupyter-widgets/base",
            "_view_module_version": "1.2.0",
            "_view_name": "StyleView",
            "bar_color": null,
            "description_width": ""
          }
        },
        "1349623156234e57ad9e75aac25d9383": {
          "model_module": "@jupyter-widgets/base",
          "model_name": "LayoutModel",
          "model_module_version": "1.2.0",
          "state": {
            "_model_module": "@jupyter-widgets/base",
            "_model_module_version": "1.2.0",
            "_model_name": "LayoutModel",
            "_view_count": null,
            "_view_module": "@jupyter-widgets/base",
            "_view_module_version": "1.2.0",
            "_view_name": "LayoutView",
            "align_content": null,
            "align_items": null,
            "align_self": null,
            "border": null,
            "bottom": null,
            "display": null,
            "flex": null,
            "flex_flow": null,
            "grid_area": null,
            "grid_auto_columns": null,
            "grid_auto_flow": null,
            "grid_auto_rows": null,
            "grid_column": null,
            "grid_gap": null,
            "grid_row": null,
            "grid_template_areas": null,
            "grid_template_columns": null,
            "grid_template_rows": null,
            "height": null,
            "justify_content": null,
            "justify_items": null,
            "left": null,
            "margin": null,
            "max_height": null,
            "max_width": null,
            "min_height": null,
            "min_width": null,
            "object_fit": null,
            "object_position": null,
            "order": null,
            "overflow": null,
            "overflow_x": null,
            "overflow_y": null,
            "padding": null,
            "right": null,
            "top": null,
            "visibility": null,
            "width": null
          }
        },
        "3e68a4a8aa3b46b1b09c6a8700822474": {
          "model_module": "@jupyter-widgets/controls",
          "model_name": "DescriptionStyleModel",
          "model_module_version": "1.5.0",
          "state": {
            "_model_module": "@jupyter-widgets/controls",
            "_model_module_version": "1.5.0",
            "_model_name": "DescriptionStyleModel",
            "_view_count": null,
            "_view_module": "@jupyter-widgets/base",
            "_view_module_version": "1.2.0",
            "_view_name": "StyleView",
            "description_width": ""
          }
        },
        "8dbe40ccd3874233824ce457e85dcf31": {
          "model_module": "@jupyter-widgets/controls",
          "model_name": "HBoxModel",
          "model_module_version": "1.5.0",
          "state": {
            "_dom_classes": [],
            "_model_module": "@jupyter-widgets/controls",
            "_model_module_version": "1.5.0",
            "_model_name": "HBoxModel",
            "_view_count": null,
            "_view_module": "@jupyter-widgets/controls",
            "_view_module_version": "1.5.0",
            "_view_name": "HBoxView",
            "box_style": "",
            "children": [
              "IPY_MODEL_b8694ecd7c8840b2befdad3282b4de35",
              "IPY_MODEL_9441a34be09046b987e9cb857a3a2d8b",
              "IPY_MODEL_7437c6299cb64ee595c77bd5ccbcbb37"
            ],
            "layout": "IPY_MODEL_d57ac82ce93e48608117ac644e5dc5f6"
          }
        },
        "b8694ecd7c8840b2befdad3282b4de35": {
          "model_module": "@jupyter-widgets/controls",
          "model_name": "HTMLModel",
          "model_module_version": "1.5.0",
          "state": {
            "_dom_classes": [],
            "_model_module": "@jupyter-widgets/controls",
            "_model_module_version": "1.5.0",
            "_model_name": "HTMLModel",
            "_view_count": null,
            "_view_module": "@jupyter-widgets/controls",
            "_view_module_version": "1.5.0",
            "_view_name": "HTMLView",
            "description": "",
            "description_tooltip": null,
            "layout": "IPY_MODEL_87c95cca91f84c218e8c540974e4abe0",
            "placeholder": "​",
            "style": "IPY_MODEL_736731b688a74b89b2d05062888567ed",
            "value": "tokenizer.json: 100%"
          }
        },
        "9441a34be09046b987e9cb857a3a2d8b": {
          "model_module": "@jupyter-widgets/controls",
          "model_name": "FloatProgressModel",
          "model_module_version": "1.5.0",
          "state": {
            "_dom_classes": [],
            "_model_module": "@jupyter-widgets/controls",
            "_model_module_version": "1.5.0",
            "_model_name": "FloatProgressModel",
            "_view_count": null,
            "_view_module": "@jupyter-widgets/controls",
            "_view_module_version": "1.5.0",
            "_view_name": "ProgressView",
            "bar_style": "success",
            "description": "",
            "description_tooltip": null,
            "layout": "IPY_MODEL_52a9f4bf37a44f9b99566632d33b65a1",
            "max": 2424064,
            "min": 0,
            "orientation": "horizontal",
            "style": "IPY_MODEL_895080caf90d4a4daa9fe6e3a8d35948",
            "value": 2424064
          }
        },
        "7437c6299cb64ee595c77bd5ccbcbb37": {
          "model_module": "@jupyter-widgets/controls",
          "model_name": "HTMLModel",
          "model_module_version": "1.5.0",
          "state": {
            "_dom_classes": [],
            "_model_module": "@jupyter-widgets/controls",
            "_model_module_version": "1.5.0",
            "_model_name": "HTMLModel",
            "_view_count": null,
            "_view_module": "@jupyter-widgets/controls",
            "_view_module_version": "1.5.0",
            "_view_name": "HTMLView",
            "description": "",
            "description_tooltip": null,
            "layout": "IPY_MODEL_f93855773e19400ca7aaa6f396e4e182",
            "placeholder": "​",
            "style": "IPY_MODEL_4f95456d36cc469a82c2930465c5d17c",
            "value": " 2.42M/2.42M [00:00&lt;00:00, 6.01MB/s]"
          }
        },
        "d57ac82ce93e48608117ac644e5dc5f6": {
          "model_module": "@jupyter-widgets/base",
          "model_name": "LayoutModel",
          "model_module_version": "1.2.0",
          "state": {
            "_model_module": "@jupyter-widgets/base",
            "_model_module_version": "1.2.0",
            "_model_name": "LayoutModel",
            "_view_count": null,
            "_view_module": "@jupyter-widgets/base",
            "_view_module_version": "1.2.0",
            "_view_name": "LayoutView",
            "align_content": null,
            "align_items": null,
            "align_self": null,
            "border": null,
            "bottom": null,
            "display": null,
            "flex": null,
            "flex_flow": null,
            "grid_area": null,
            "grid_auto_columns": null,
            "grid_auto_flow": null,
            "grid_auto_rows": null,
            "grid_column": null,
            "grid_gap": null,
            "grid_row": null,
            "grid_template_areas": null,
            "grid_template_columns": null,
            "grid_template_rows": null,
            "height": null,
            "justify_content": null,
            "justify_items": null,
            "left": null,
            "margin": null,
            "max_height": null,
            "max_width": null,
            "min_height": null,
            "min_width": null,
            "object_fit": null,
            "object_position": null,
            "order": null,
            "overflow": null,
            "overflow_x": null,
            "overflow_y": null,
            "padding": null,
            "right": null,
            "top": null,
            "visibility": null,
            "width": null
          }
        },
        "87c95cca91f84c218e8c540974e4abe0": {
          "model_module": "@jupyter-widgets/base",
          "model_name": "LayoutModel",
          "model_module_version": "1.2.0",
          "state": {
            "_model_module": "@jupyter-widgets/base",
            "_model_module_version": "1.2.0",
            "_model_name": "LayoutModel",
            "_view_count": null,
            "_view_module": "@jupyter-widgets/base",
            "_view_module_version": "1.2.0",
            "_view_name": "LayoutView",
            "align_content": null,
            "align_items": null,
            "align_self": null,
            "border": null,
            "bottom": null,
            "display": null,
            "flex": null,
            "flex_flow": null,
            "grid_area": null,
            "grid_auto_columns": null,
            "grid_auto_flow": null,
            "grid_auto_rows": null,
            "grid_column": null,
            "grid_gap": null,
            "grid_row": null,
            "grid_template_areas": null,
            "grid_template_columns": null,
            "grid_template_rows": null,
            "height": null,
            "justify_content": null,
            "justify_items": null,
            "left": null,
            "margin": null,
            "max_height": null,
            "max_width": null,
            "min_height": null,
            "min_width": null,
            "object_fit": null,
            "object_position": null,
            "order": null,
            "overflow": null,
            "overflow_x": null,
            "overflow_y": null,
            "padding": null,
            "right": null,
            "top": null,
            "visibility": null,
            "width": null
          }
        },
        "736731b688a74b89b2d05062888567ed": {
          "model_module": "@jupyter-widgets/controls",
          "model_name": "DescriptionStyleModel",
          "model_module_version": "1.5.0",
          "state": {
            "_model_module": "@jupyter-widgets/controls",
            "_model_module_version": "1.5.0",
            "_model_name": "DescriptionStyleModel",
            "_view_count": null,
            "_view_module": "@jupyter-widgets/base",
            "_view_module_version": "1.2.0",
            "_view_name": "StyleView",
            "description_width": ""
          }
        },
        "52a9f4bf37a44f9b99566632d33b65a1": {
          "model_module": "@jupyter-widgets/base",
          "model_name": "LayoutModel",
          "model_module_version": "1.2.0",
          "state": {
            "_model_module": "@jupyter-widgets/base",
            "_model_module_version": "1.2.0",
            "_model_name": "LayoutModel",
            "_view_count": null,
            "_view_module": "@jupyter-widgets/base",
            "_view_module_version": "1.2.0",
            "_view_name": "LayoutView",
            "align_content": null,
            "align_items": null,
            "align_self": null,
            "border": null,
            "bottom": null,
            "display": null,
            "flex": null,
            "flex_flow": null,
            "grid_area": null,
            "grid_auto_columns": null,
            "grid_auto_flow": null,
            "grid_auto_rows": null,
            "grid_column": null,
            "grid_gap": null,
            "grid_row": null,
            "grid_template_areas": null,
            "grid_template_columns": null,
            "grid_template_rows": null,
            "height": null,
            "justify_content": null,
            "justify_items": null,
            "left": null,
            "margin": null,
            "max_height": null,
            "max_width": null,
            "min_height": null,
            "min_width": null,
            "object_fit": null,
            "object_position": null,
            "order": null,
            "overflow": null,
            "overflow_x": null,
            "overflow_y": null,
            "padding": null,
            "right": null,
            "top": null,
            "visibility": null,
            "width": null
          }
        },
        "895080caf90d4a4daa9fe6e3a8d35948": {
          "model_module": "@jupyter-widgets/controls",
          "model_name": "ProgressStyleModel",
          "model_module_version": "1.5.0",
          "state": {
            "_model_module": "@jupyter-widgets/controls",
            "_model_module_version": "1.5.0",
            "_model_name": "ProgressStyleModel",
            "_view_count": null,
            "_view_module": "@jupyter-widgets/base",
            "_view_module_version": "1.2.0",
            "_view_name": "StyleView",
            "bar_color": null,
            "description_width": ""
          }
        },
        "f93855773e19400ca7aaa6f396e4e182": {
          "model_module": "@jupyter-widgets/base",
          "model_name": "LayoutModel",
          "model_module_version": "1.2.0",
          "state": {
            "_model_module": "@jupyter-widgets/base",
            "_model_module_version": "1.2.0",
            "_model_name": "LayoutModel",
            "_view_count": null,
            "_view_module": "@jupyter-widgets/base",
            "_view_module_version": "1.2.0",
            "_view_name": "LayoutView",
            "align_content": null,
            "align_items": null,
            "align_self": null,
            "border": null,
            "bottom": null,
            "display": null,
            "flex": null,
            "flex_flow": null,
            "grid_area": null,
            "grid_auto_columns": null,
            "grid_auto_flow": null,
            "grid_auto_rows": null,
            "grid_column": null,
            "grid_gap": null,
            "grid_row": null,
            "grid_template_areas": null,
            "grid_template_columns": null,
            "grid_template_rows": null,
            "height": null,
            "justify_content": null,
            "justify_items": null,
            "left": null,
            "margin": null,
            "max_height": null,
            "max_width": null,
            "min_height": null,
            "min_width": null,
            "object_fit": null,
            "object_position": null,
            "order": null,
            "overflow": null,
            "overflow_x": null,
            "overflow_y": null,
            "padding": null,
            "right": null,
            "top": null,
            "visibility": null,
            "width": null
          }
        },
        "4f95456d36cc469a82c2930465c5d17c": {
          "model_module": "@jupyter-widgets/controls",
          "model_name": "DescriptionStyleModel",
          "model_module_version": "1.5.0",
          "state": {
            "_model_module": "@jupyter-widgets/controls",
            "_model_module_version": "1.5.0",
            "_model_name": "DescriptionStyleModel",
            "_view_count": null,
            "_view_module": "@jupyter-widgets/base",
            "_view_module_version": "1.2.0",
            "_view_name": "StyleView",
            "description_width": ""
          }
        },
        "05017b1c059d4e80930363ad0685d0f4": {
          "model_module": "@jupyter-widgets/controls",
          "model_name": "HBoxModel",
          "model_module_version": "1.5.0",
          "state": {
            "_dom_classes": [],
            "_model_module": "@jupyter-widgets/controls",
            "_model_module_version": "1.5.0",
            "_model_name": "HBoxModel",
            "_view_count": null,
            "_view_module": "@jupyter-widgets/controls",
            "_view_module_version": "1.5.0",
            "_view_name": "HBoxView",
            "box_style": "",
            "children": [
              "IPY_MODEL_acaf2f722d4445bd9dadef7fe3a4634c",
              "IPY_MODEL_3e9ac026ffa34bdc810ccd8a788f3540",
              "IPY_MODEL_bfac02ce47cc40fc9e0861410eeae86f"
            ],
            "layout": "IPY_MODEL_66f1728758484455a84cbe791674deab"
          }
        },
        "acaf2f722d4445bd9dadef7fe3a4634c": {
          "model_module": "@jupyter-widgets/controls",
          "model_name": "HTMLModel",
          "model_module_version": "1.5.0",
          "state": {
            "_dom_classes": [],
            "_model_module": "@jupyter-widgets/controls",
            "_model_module_version": "1.5.0",
            "_model_name": "HTMLModel",
            "_view_count": null,
            "_view_module": "@jupyter-widgets/controls",
            "_view_module_version": "1.5.0",
            "_view_name": "HTMLView",
            "description": "",
            "description_tooltip": null,
            "layout": "IPY_MODEL_22ee8effe65d4f1a8ee1f9c6134d90a3",
            "placeholder": "​",
            "style": "IPY_MODEL_bd952876c6054bd9b21bb30538f2a84e",
            "value": "special_tokens_map.json: 100%"
          }
        },
        "3e9ac026ffa34bdc810ccd8a788f3540": {
          "model_module": "@jupyter-widgets/controls",
          "model_name": "FloatProgressModel",
          "model_module_version": "1.5.0",
          "state": {
            "_dom_classes": [],
            "_model_module": "@jupyter-widgets/controls",
            "_model_module_version": "1.5.0",
            "_model_name": "FloatProgressModel",
            "_view_count": null,
            "_view_module": "@jupyter-widgets/controls",
            "_view_module_version": "1.5.0",
            "_view_name": "ProgressView",
            "bar_style": "success",
            "description": "",
            "description_tooltip": null,
            "layout": "IPY_MODEL_0451eed41e5948e4a3a58447a8c5ba5e",
            "max": 2201,
            "min": 0,
            "orientation": "horizontal",
            "style": "IPY_MODEL_b188c70947344f1db83291fbd527e427",
            "value": 2201
          }
        },
        "bfac02ce47cc40fc9e0861410eeae86f": {
          "model_module": "@jupyter-widgets/controls",
          "model_name": "HTMLModel",
          "model_module_version": "1.5.0",
          "state": {
            "_dom_classes": [],
            "_model_module": "@jupyter-widgets/controls",
            "_model_module_version": "1.5.0",
            "_model_name": "HTMLModel",
            "_view_count": null,
            "_view_module": "@jupyter-widgets/controls",
            "_view_module_version": "1.5.0",
            "_view_name": "HTMLView",
            "description": "",
            "description_tooltip": null,
            "layout": "IPY_MODEL_60176b8b30de47ccacc603ad3d6b6329",
            "placeholder": "​",
            "style": "IPY_MODEL_d358d8b53ea046d593bb8e8cdbbcd0f7",
            "value": " 2.20k/2.20k [00:00&lt;00:00, 38.1kB/s]"
          }
        },
        "66f1728758484455a84cbe791674deab": {
          "model_module": "@jupyter-widgets/base",
          "model_name": "LayoutModel",
          "model_module_version": "1.2.0",
          "state": {
            "_model_module": "@jupyter-widgets/base",
            "_model_module_version": "1.2.0",
            "_model_name": "LayoutModel",
            "_view_count": null,
            "_view_module": "@jupyter-widgets/base",
            "_view_module_version": "1.2.0",
            "_view_name": "LayoutView",
            "align_content": null,
            "align_items": null,
            "align_self": null,
            "border": null,
            "bottom": null,
            "display": null,
            "flex": null,
            "flex_flow": null,
            "grid_area": null,
            "grid_auto_columns": null,
            "grid_auto_flow": null,
            "grid_auto_rows": null,
            "grid_column": null,
            "grid_gap": null,
            "grid_row": null,
            "grid_template_areas": null,
            "grid_template_columns": null,
            "grid_template_rows": null,
            "height": null,
            "justify_content": null,
            "justify_items": null,
            "left": null,
            "margin": null,
            "max_height": null,
            "max_width": null,
            "min_height": null,
            "min_width": null,
            "object_fit": null,
            "object_position": null,
            "order": null,
            "overflow": null,
            "overflow_x": null,
            "overflow_y": null,
            "padding": null,
            "right": null,
            "top": null,
            "visibility": null,
            "width": null
          }
        },
        "22ee8effe65d4f1a8ee1f9c6134d90a3": {
          "model_module": "@jupyter-widgets/base",
          "model_name": "LayoutModel",
          "model_module_version": "1.2.0",
          "state": {
            "_model_module": "@jupyter-widgets/base",
            "_model_module_version": "1.2.0",
            "_model_name": "LayoutModel",
            "_view_count": null,
            "_view_module": "@jupyter-widgets/base",
            "_view_module_version": "1.2.0",
            "_view_name": "LayoutView",
            "align_content": null,
            "align_items": null,
            "align_self": null,
            "border": null,
            "bottom": null,
            "display": null,
            "flex": null,
            "flex_flow": null,
            "grid_area": null,
            "grid_auto_columns": null,
            "grid_auto_flow": null,
            "grid_auto_rows": null,
            "grid_column": null,
            "grid_gap": null,
            "grid_row": null,
            "grid_template_areas": null,
            "grid_template_columns": null,
            "grid_template_rows": null,
            "height": null,
            "justify_content": null,
            "justify_items": null,
            "left": null,
            "margin": null,
            "max_height": null,
            "max_width": null,
            "min_height": null,
            "min_width": null,
            "object_fit": null,
            "object_position": null,
            "order": null,
            "overflow": null,
            "overflow_x": null,
            "overflow_y": null,
            "padding": null,
            "right": null,
            "top": null,
            "visibility": null,
            "width": null
          }
        },
        "bd952876c6054bd9b21bb30538f2a84e": {
          "model_module": "@jupyter-widgets/controls",
          "model_name": "DescriptionStyleModel",
          "model_module_version": "1.5.0",
          "state": {
            "_model_module": "@jupyter-widgets/controls",
            "_model_module_version": "1.5.0",
            "_model_name": "DescriptionStyleModel",
            "_view_count": null,
            "_view_module": "@jupyter-widgets/base",
            "_view_module_version": "1.2.0",
            "_view_name": "StyleView",
            "description_width": ""
          }
        },
        "0451eed41e5948e4a3a58447a8c5ba5e": {
          "model_module": "@jupyter-widgets/base",
          "model_name": "LayoutModel",
          "model_module_version": "1.2.0",
          "state": {
            "_model_module": "@jupyter-widgets/base",
            "_model_module_version": "1.2.0",
            "_model_name": "LayoutModel",
            "_view_count": null,
            "_view_module": "@jupyter-widgets/base",
            "_view_module_version": "1.2.0",
            "_view_name": "LayoutView",
            "align_content": null,
            "align_items": null,
            "align_self": null,
            "border": null,
            "bottom": null,
            "display": null,
            "flex": null,
            "flex_flow": null,
            "grid_area": null,
            "grid_auto_columns": null,
            "grid_auto_flow": null,
            "grid_auto_rows": null,
            "grid_column": null,
            "grid_gap": null,
            "grid_row": null,
            "grid_template_areas": null,
            "grid_template_columns": null,
            "grid_template_rows": null,
            "height": null,
            "justify_content": null,
            "justify_items": null,
            "left": null,
            "margin": null,
            "max_height": null,
            "max_width": null,
            "min_height": null,
            "min_width": null,
            "object_fit": null,
            "object_position": null,
            "order": null,
            "overflow": null,
            "overflow_x": null,
            "overflow_y": null,
            "padding": null,
            "right": null,
            "top": null,
            "visibility": null,
            "width": null
          }
        },
        "b188c70947344f1db83291fbd527e427": {
          "model_module": "@jupyter-widgets/controls",
          "model_name": "ProgressStyleModel",
          "model_module_version": "1.5.0",
          "state": {
            "_model_module": "@jupyter-widgets/controls",
            "_model_module_version": "1.5.0",
            "_model_name": "ProgressStyleModel",
            "_view_count": null,
            "_view_module": "@jupyter-widgets/base",
            "_view_module_version": "1.2.0",
            "_view_name": "StyleView",
            "bar_color": null,
            "description_width": ""
          }
        },
        "60176b8b30de47ccacc603ad3d6b6329": {
          "model_module": "@jupyter-widgets/base",
          "model_name": "LayoutModel",
          "model_module_version": "1.2.0",
          "state": {
            "_model_module": "@jupyter-widgets/base",
            "_model_module_version": "1.2.0",
            "_model_name": "LayoutModel",
            "_view_count": null,
            "_view_module": "@jupyter-widgets/base",
            "_view_module_version": "1.2.0",
            "_view_name": "LayoutView",
            "align_content": null,
            "align_items": null,
            "align_self": null,
            "border": null,
            "bottom": null,
            "display": null,
            "flex": null,
            "flex_flow": null,
            "grid_area": null,
            "grid_auto_columns": null,
            "grid_auto_flow": null,
            "grid_auto_rows": null,
            "grid_column": null,
            "grid_gap": null,
            "grid_row": null,
            "grid_template_areas": null,
            "grid_template_columns": null,
            "grid_template_rows": null,
            "height": null,
            "justify_content": null,
            "justify_items": null,
            "left": null,
            "margin": null,
            "max_height": null,
            "max_width": null,
            "min_height": null,
            "min_width": null,
            "object_fit": null,
            "object_position": null,
            "order": null,
            "overflow": null,
            "overflow_x": null,
            "overflow_y": null,
            "padding": null,
            "right": null,
            "top": null,
            "visibility": null,
            "width": null
          }
        },
        "d358d8b53ea046d593bb8e8cdbbcd0f7": {
          "model_module": "@jupyter-widgets/controls",
          "model_name": "DescriptionStyleModel",
          "model_module_version": "1.5.0",
          "state": {
            "_model_module": "@jupyter-widgets/controls",
            "_model_module_version": "1.5.0",
            "_model_name": "DescriptionStyleModel",
            "_view_count": null,
            "_view_module": "@jupyter-widgets/base",
            "_view_module_version": "1.2.0",
            "_view_name": "StyleView",
            "description_width": ""
          }
        }
      }
    }
  },
  "cells": [
    {
      "cell_type": "markdown",
      "source": [
        "# Agentic Company Wiki Search Assistant (Basecamp Handbook)\n",
        "\n",
        "The aim of this project is to build an AI assistant that semantically searches a “company wiki” (the Basecamp public handbook) and returns relevant passages for natural-language queries.\n",
        "\n",
        "To achieve this, the following steps are to be followed:\n",
        "1. Install necessary libraries.\n",
        "2. Clone the Basecamp Handbook repo into Colab.\n",
        "3. Find and list all Markdown files.\n",
        "4. Load and split each Markdown page into chunks.\n",
        "5. Create embeddings and build a FAISS index.\n",
        "6. Define a semantic search function and an agentic wrapper.\n",
        "7. Run a few example queries.\n",
        "\n",
        "---\n"
      ],
      "metadata": {
        "id": "WpTVeGbtstYL"
      }
    },
    {
      "cell_type": "markdown",
      "source": [
        "# 1. Dependancies Installations"
      ],
      "metadata": {
        "id": "Dw6Qam5iADKQ"
      }
    },
    {
      "cell_type": "code",
      "source": [
        "!pip install -q \\\n",
        "    faiss-cpu \\\n",
        "    sentence-transformers \\\n",
        "    langchain \\\n",
        "    langchain-community \\\n",
        "    unstructured \\\n",
        "    nltk \\\n",
        "    gradio"
      ],
      "metadata": {
        "id": "ZX9CvEXCZXl_"
      },
      "execution_count": 62,
      "outputs": []
    },
    {
      "cell_type": "code",
      "source": [
        "!pip install -q faiss-cpu sentence-transformers langchain unstructured nltk\n"
      ],
      "metadata": {
        "id": "Ra0vT05bsyHl",
        "colab": {
          "base_uri": "https://localhost:8080/"
        },
        "outputId": "10089b1d-6ed6-4fca-bd61-384926ba8457"
      },
      "execution_count": null,
      "outputs": [
        {
          "output_type": "stream",
          "name": "stdout",
          "text": [
            "\u001b[?25l     \u001b[90m━━━━━━━━━━━━━━━━━━━━━━━━━━━━━━━━━━━━━━━━\u001b[0m \u001b[32m0.0/981.5 kB\u001b[0m \u001b[31m?\u001b[0m eta \u001b[36m-:--:--\u001b[0m\r\u001b[2K     \u001b[91m━━━━━━━━━━━━━━━━━━━━━━━━━\u001b[0m\u001b[91m╸\u001b[0m\u001b[90m━━━━━━━━━━━━\u001b[0m \u001b[32m665.6/981.5 kB\u001b[0m \u001b[31m18.6 MB/s\u001b[0m eta \u001b[36m0:00:01\u001b[0m\r\u001b[2K     \u001b[90m━━━━━━━━━━━━━━━━━━━━━━━━━━━━━━━━━━━━━━\u001b[0m \u001b[32m981.5/981.5 kB\u001b[0m \u001b[31m14.1 MB/s\u001b[0m eta \u001b[36m0:00:00\u001b[0m\n",
            "\u001b[?25h  Preparing metadata (setup.py) ... \u001b[?25l\u001b[?25hdone\n",
            "\u001b[2K   \u001b[90m━━━━━━━━━━━━━━━━━━━━━━━━━━━━━━━━━━━━━━━━\u001b[0m \u001b[32m31.3/31.3 MB\u001b[0m \u001b[31m22.1 MB/s\u001b[0m eta \u001b[36m0:00:00\u001b[0m\n",
            "\u001b[2K   \u001b[90m━━━━━━━━━━━━━━━━━━━━━━━━━━━━━━━━━━━━━━━━\u001b[0m \u001b[32m1.8/1.8 MB\u001b[0m \u001b[31m20.5 MB/s\u001b[0m eta \u001b[36m0:00:00\u001b[0m\n",
            "\u001b[2K   \u001b[90m━━━━━━━━━━━━━━━━━━━━━━━━━━━━━━━━━━━━━━━━\u001b[0m \u001b[32m363.4/363.4 MB\u001b[0m \u001b[31m2.8 MB/s\u001b[0m eta \u001b[36m0:00:00\u001b[0m\n",
            "\u001b[2K   \u001b[90m━━━━━━━━━━━━━━━━━━━━━━━━━━━━━━━━━━━━━━━━\u001b[0m \u001b[32m13.8/13.8 MB\u001b[0m \u001b[31m103.6 MB/s\u001b[0m eta \u001b[36m0:00:00\u001b[0m\n",
            "\u001b[2K   \u001b[90m━━━━━━━━━━━━━━━━━━━━━━━━━━━━━━━━━━━━━━━━\u001b[0m \u001b[32m24.6/24.6 MB\u001b[0m \u001b[31m81.2 MB/s\u001b[0m eta \u001b[36m0:00:00\u001b[0m\n",
            "\u001b[2K   \u001b[90m━━━━━━━━━━━━━━━━━━━━━━━━━━━━━━━━━━━━━━━━\u001b[0m \u001b[32m883.7/883.7 kB\u001b[0m \u001b[31m48.3 MB/s\u001b[0m eta \u001b[36m0:00:00\u001b[0m\n",
            "\u001b[2K   \u001b[90m━━━━━━━━━━━━━━━━━━━━━━━━━━━━━━━━━━━━━━━━\u001b[0m \u001b[32m664.8/664.8 MB\u001b[0m \u001b[31m2.0 MB/s\u001b[0m eta \u001b[36m0:00:00\u001b[0m\n",
            "\u001b[2K   \u001b[90m━━━━━━━━━━━━━━━━━━━━━━━━━━━━━━━━━━━━━━━━\u001b[0m \u001b[32m211.5/211.5 MB\u001b[0m \u001b[31m5.8 MB/s\u001b[0m eta \u001b[36m0:00:00\u001b[0m\n",
            "\u001b[2K   \u001b[90m━━━━━━━━━━━━━━━━━━━━━━━━━━━━━━━━━━━━━━━━\u001b[0m \u001b[32m56.3/56.3 MB\u001b[0m \u001b[31m12.0 MB/s\u001b[0m eta \u001b[36m0:00:00\u001b[0m\n",
            "\u001b[2K   \u001b[90m━━━━━━━━━━━━━━━━━━━━━━━━━━━━━━━━━━━━━━━━\u001b[0m \u001b[32m127.9/127.9 MB\u001b[0m \u001b[31m7.5 MB/s\u001b[0m eta \u001b[36m0:00:00\u001b[0m\n",
            "\u001b[2K   \u001b[90m━━━━━━━━━━━━━━━━━━━━━━━━━━━━━━━━━━━━━━━━\u001b[0m \u001b[32m207.5/207.5 MB\u001b[0m \u001b[31m5.7 MB/s\u001b[0m eta \u001b[36m0:00:00\u001b[0m\n",
            "\u001b[2K   \u001b[90m━━━━━━━━━━━━━━━━━━━━━━━━━━━━━━━━━━━━━━━━\u001b[0m \u001b[32m21.1/21.1 MB\u001b[0m \u001b[31m67.9 MB/s\u001b[0m eta \u001b[36m0:00:00\u001b[0m\n",
            "\u001b[2K   \u001b[90m━━━━━━━━━━━━━━━━━━━━━━━━━━━━━━━━━━━━━━━━\u001b[0m \u001b[32m590.6/590.6 kB\u001b[0m \u001b[31m30.2 MB/s\u001b[0m eta \u001b[36m0:00:00\u001b[0m\n",
            "\u001b[2K   \u001b[90m━━━━━━━━━━━━━━━━━━━━━━━━━━━━━━━━━━━━━━━━\u001b[0m \u001b[32m167.6/167.6 kB\u001b[0m \u001b[31m10.2 MB/s\u001b[0m eta \u001b[36m0:00:00\u001b[0m\n",
            "\u001b[2K   \u001b[90m━━━━━━━━━━━━━━━━━━━━━━━━━━━━━━━━━━━━━━━━\u001b[0m \u001b[32m3.1/3.1 MB\u001b[0m \u001b[31m65.0 MB/s\u001b[0m eta \u001b[36m0:00:00\u001b[0m\n",
            "\u001b[2K   \u001b[90m━━━━━━━━━━━━━━━━━━━━━━━━━━━━━━━━━━━━━━━━\u001b[0m \u001b[32m195.8/195.8 kB\u001b[0m \u001b[31m13.0 MB/s\u001b[0m eta \u001b[36m0:00:00\u001b[0m\n",
            "\u001b[2K   \u001b[90m━━━━━━━━━━━━━━━━━━━━━━━━━━━━━━━━━━━━━━━━\u001b[0m \u001b[32m50.9/50.9 kB\u001b[0m \u001b[31m3.3 MB/s\u001b[0m eta \u001b[36m0:00:00\u001b[0m\n",
            "\u001b[2K   \u001b[90m━━━━━━━━━━━━━━━━━━━━━━━━━━━━━━━━━━━━━━━━\u001b[0m \u001b[32m304.2/304.2 kB\u001b[0m \u001b[31m19.0 MB/s\u001b[0m eta \u001b[36m0:00:00\u001b[0m\n",
            "\u001b[2K   \u001b[90m━━━━━━━━━━━━━━━━━━━━━━━━━━━━━━━━━━━━━━━━\u001b[0m \u001b[32m114.6/114.6 kB\u001b[0m \u001b[31m7.6 MB/s\u001b[0m eta \u001b[36m0:00:00\u001b[0m\n",
            "\u001b[?25h  Building wheel for langdetect (setup.py) ... \u001b[?25l\u001b[?25hdone\n"
          ]
        }
      ]
    },
    {
      "cell_type": "code",
      "source": [
        "#imports\n",
        "import os\n",
        "from pathlib import Path\n",
        "from langchain.document_loaders import UnstructuredFileLoader\n",
        "from langchain.text_splitter import RecursiveCharacterTextSplitter\n",
        "from langchain.text_splitter import MarkdownTextSplitter\n",
        "from langchain.embeddings import HuggingFaceEmbeddings\n",
        "from langchain.vectorstores import FAISS\n",
        "from transformers import pipeline\n",
        "import nltk\n",
        "import numpy as np\n",
        "from sklearn.metrics.pairwise import cosine_similarity\n",
        "import gradio as gr\n",
        "import time"
      ],
      "metadata": {
        "id": "KJ7MfwviAMSp"
      },
      "execution_count": 55,
      "outputs": []
    },
    {
      "cell_type": "markdown",
      "source": [
        "---\n",
        "\n",
        "## 2. Clone the Public GitHub Handbook\n",
        "\n",
        "We’ll use BaseCamp’s public handbook as our “company wiki” example. This repo contains many documents, serving as a company handbook/guide."
      ],
      "metadata": {
        "id": "olWemwHls0b0"
      }
    },
    {
      "cell_type": "code",
      "source": [
        "# Remove any previous clone, then clone the handbook repo\n",
        "!rm -rf /content/basecamp-handbook\n",
        "!git clone https://github.com/basecamp/handbook.git /content/basecamp-handbook\n"
      ],
      "metadata": {
        "colab": {
          "base_uri": "https://localhost:8080/"
        },
        "id": "3hTy1-9p_w7Z",
        "outputId": "4e03d3d1-7d76-4baf-d5cd-e521aa048648"
      },
      "execution_count": null,
      "outputs": [
        {
          "output_type": "stream",
          "name": "stdout",
          "text": [
            "Cloning into '/content/basecamp-handbook'...\n",
            "remote: Enumerating objects: 1423, done.\u001b[K\n",
            "remote: Counting objects: 100% (782/782), done.\u001b[K\n",
            "remote: Compressing objects: 100% (250/250), done.\u001b[K\n",
            "remote: Total 1423 (delta 573), reused 648 (delta 532), pack-reused 641 (from 1)\u001b[K\n",
            "Receiving objects: 100% (1423/1423), 522.88 KiB | 9.87 MiB/s, done.\n",
            "Resolving deltas: 100% (878/878), done.\n"
          ]
        }
      ]
    },
    {
      "cell_type": "markdown",
      "source": [
        "To see if the cloning was successful, we verify by listing a few files."
      ],
      "metadata": {
        "id": "0Akce3-u_0hI"
      }
    },
    {
      "cell_type": "code",
      "source": [
        "basecamp_path = Path(\"/content/basecamp-handbook\")\n",
        "print(\"Top-level files/folders in basecamp-handbook:\")\n",
        "for item in sorted(os.listdir(basecamp_path))[:10]:\n",
        "    print(\" •\", item)"
      ],
      "metadata": {
        "colab": {
          "base_uri": "https://localhost:8080/"
        },
        "id": "-vgGQlW5_95R",
        "outputId": "68cb54d2-0ada-455e-c126-b03a8967d274"
      },
      "execution_count": null,
      "outputs": [
        {
          "output_type": "stream",
          "name": "stdout",
          "text": [
            "Top-level files/folders in basecamp-handbook:\n",
            " • .git\n",
            " • README.md\n",
            " • benefits-and-perks.md\n",
            " • code-of-conduct.md\n",
            " • getting-started.md\n",
            " • how-we-work.md\n",
            " • making-a-career.md\n",
            " • managing-work-devices.md\n",
            " • moonlighting.md\n",
            " • our-internal-systems.md\n"
          ]
        }
      ]
    },
    {
      "cell_type": "markdown",
      "source": [
        "---\n",
        "\n",
        "## 3. Locate All Markdown Files\n",
        "\n",
        "Recursively collect all `.md` files under `/content/basecamp-handbook`. These will act as our “company wiki” pages to index.\n"
      ],
      "metadata": {
        "id": "ORZpJcqHARJI"
      }
    },
    {
      "cell_type": "code",
      "source": [
        "\n",
        "dir_path = Path(\"/content/basecamp-handbook\")\n",
        "md_files = list(dir_path.rglob(\"*.md\"))\n",
        "print(f\"Found {len(md_files)} Markdown files under {dir_path}.\")\n",
        "# Display the first 10 relative paths for confirmation\n",
        "for f in md_files[:10]:\n",
        "    print(\" •\", f.relative_to(dir_path))\n"
      ],
      "metadata": {
        "colab": {
          "base_uri": "https://localhost:8080/"
        },
        "id": "j1sOBWbjAURJ",
        "outputId": "df90f227-4979-4537-a760-6528ae151954"
      },
      "execution_count": null,
      "outputs": [
        {
          "output_type": "stream",
          "name": "stdout",
          "text": [
            "Found 17 Markdown files under /content/basecamp-handbook.\n",
            " • moonlighting.md\n",
            " • titles-for-programmers.md\n",
            " • stateFMLA.md\n",
            " • how-we-work.md\n",
            " • README.md\n",
            " • benefits-and-perks.md\n",
            " • our-internal-systems.md\n",
            " • getting-started.md\n",
            " • making-a-career.md\n",
            " • titles-for-ops.md\n"
          ]
        }
      ]
    },
    {
      "cell_type": "markdown",
      "source": [
        "---\n",
        "\n",
        "## 4. Load & Split Each Markdown Document\n",
        "\n",
        "We’ll use LangChain’s `UnstructuredFileLoader` to read each `.md` file as a `Document`. Then we’ll split each document into ~500-character chunks (with 50 characters overlap) to preserve context.\n"
      ],
      "metadata": {
        "id": "wJH4vovgAdoJ"
      }
    },
    {
      "cell_type": "code",
      "source": [
        "from langchain.text_splitter import MarkdownTextSplitter\n",
        "\n",
        "# split at markdown structural boundaries (headings, paragraphs, etc.)\n",
        "splitter = MarkdownTextSplitter(\n",
        "    chunk_size=2000,\n",
        "    chunk_overlap=200\n",
        ")\n",
        "all_docs = []\n",
        "for md_path in md_files:\n",
        "    loader = UnstructuredFileLoader(str(md_path), encoding=\"utf-8\")\n",
        "    docs = loader.load()\n",
        "    chunks = splitter.split_documents(docs)\n",
        "\n",
        "    # drop very short chunks (just titles or noise)\n",
        "    filtered = [c for c in chunks if len(c.page_content.split()) > 30]\n",
        "    all_docs.extend(filtered)\n",
        "\n",
        "print(f\"Total document chunks created: {len(all_docs)}\")"
      ],
      "metadata": {
        "colab": {
          "base_uri": "https://localhost:8080/"
        },
        "id": "SW8JKgZxBljC",
        "outputId": "2d7a9eb6-a3db-443e-bed7-a7f059ff2d7c"
      },
      "execution_count": 32,
      "outputs": [
        {
          "output_type": "stream",
          "name": "stdout",
          "text": [
            "Total document chunks created: 58\n"
          ]
        }
      ]
    },
    {
      "cell_type": "markdown",
      "source": [
        "---\n",
        "\n",
        "## 5. Create Embeddings & FAISS Vector Store\n",
        "\n",
        "Instantiate a lightweight embedding model (`all-MiniLM-L6-v2`) and build a FAISS index from our chunks. This will power semantic retrieval.\n"
      ],
      "metadata": {
        "id": "h6IAsarSBmfg"
      }
    },
    {
      "cell_type": "code",
      "source": [
        "# Initialize the embedding model\n",
        "embedding_model = HuggingFaceEmbeddings(model_name=\"all-MiniLM-L6-v2\")\n",
        "\n",
        "# Build the FAISS index (may take ~1–2 minutes depending on chunk count)\n",
        "vectorstore = FAISS.from_documents(all_docs, embedding_model)\n",
        "\n",
        "print(\"FAISS index built successfully.\")"
      ],
      "metadata": {
        "colab": {
          "base_uri": "https://localhost:8080/"
        },
        "id": "_kUxBauSBuG5",
        "outputId": "e705ccce-25c8-4159-e6e3-f2b3ac04e3bb"
      },
      "execution_count": 33,
      "outputs": [
        {
          "output_type": "stream",
          "name": "stdout",
          "text": [
            "FAISS index built successfully.\n"
          ]
        }
      ]
    },
    {
      "cell_type": "markdown",
      "source": [
        "---\n",
        "\n",
        "## 6. Define Semantic Search + Agentic Wrapper\n",
        "\n",
        "We’ll define two helper functions:\n",
        "\n",
        "1. `company_search(query, k=3)`: returns the top-k relevant text chunks for a given query.\n",
        "2. `company_assistant(query, k=3)`: prints the query and the retrieved passages in a user-friendly way.\n"
      ],
      "metadata": {
        "id": "53HNNDrhB-9o"
      }
    },
    {
      "cell_type": "code",
      "source": [
        "def company_search(query: str, k: int = 3):\n",
        "    \"\"\"\n",
        "    Given a natural-language query, return the top-k most relevant\n",
        "    document chunks from our FAISS index.\n",
        "    \"\"\"\n",
        "    docs = vectorstore.similarity_search(query, k=k)\n",
        "    return [doc.page_content for doc in docs]\n",
        "\n",
        "def company_assistant_section(query: str, k: int = 3):\n",
        "    # 1. Retrieve top-k chunks\n",
        "    docs = vectorstore.similarity_search(query, k=k)\n",
        "    # 2. Pick the most common source file among them\n",
        "    sources = [d.metadata[\"source\"] for d in docs]\n",
        "    best_file = max(set(sources), key=sources.count)\n",
        "    # 3. Read entire markdown file\n",
        "    full_text = Path(best_file).read_text()\n",
        "    print(f\" Full section from: {best_file}\\n\")\n",
        "    print(full_text)\n"
      ],
      "metadata": {
        "id": "u3_a1WD_CBr5"
      },
      "execution_count": 64,
      "outputs": []
    },
    {
      "cell_type": "markdown",
      "source": [
        "Setting up a summarization pipeline which will summarize the text using the flan-t5-base model."
      ],
      "metadata": {
        "id": "FPBwc1XvIJ-A"
      }
    },
    {
      "cell_type": "code",
      "source": [
        "summarizer = pipeline(\n",
        "    \"summarization\",\n",
        "    model=\"google/flan-t5-base\",\n",
        "    tokenizer=\"google/flan-t5-base\",\n",
        "    framework=\"pt\",           # use PyTorch backend\n",
        "    device=0 if __import__(\"torch\").cuda.is_available() else -1\n",
        ")"
      ],
      "metadata": {
        "colab": {
          "base_uri": "https://localhost:8080/",
          "height": 258,
          "referenced_widgets": [
            "68517dd2e84c448eb2dc9821870745da",
            "e036ce18a6754a1f9e4637281dc48407",
            "443765fe816d48918d55b79a9d839125",
            "faa100f6f5414f7bba6d4d6e7f9a61b8",
            "276130fcedeb43a28de9e173b9f9007e",
            "e00275c7001f45bfb41955c075c59972",
            "f759a9bd96c94369b99a2446fa7342fa",
            "d83d71817d034e73a282b23b39f636df",
            "91fac859469640e7bb71dffdb01b15cb",
            "f44148dfc4bc43dd826d616f16bcd362",
            "2df4511abe18401ab5fcaaad1f45d4fe",
            "1e7274bd34024d85b62f656f7e883bfb",
            "7908ca181f3641499fd86884c49b26f2",
            "18ceb3541590475a9e5a744f227b9635",
            "987cdc586ef14903bc543a1d5939d66d",
            "312c731e4c8d4d25905a8728ec8d20ab",
            "31b8babcad9b4652a073809476686e0a",
            "aaff775adba9411cbc20353d626ccd47",
            "645a29f5217b4d188c713b53793d28de",
            "64cafc06a5724eb59a6641c6dc1a3e48",
            "7d092970b4f04d49b998a603dc08344d",
            "be469baa6b784d019370b180982ebc2c",
            "6150b2b530364cdea7a6bffa168ba8d1",
            "da7d1930a63647dba1dbf1928bfe358c",
            "d3c1bd731c9443489a23a52aa3c3ab22",
            "a177edd15b8b479981d6c7b4e1fda687",
            "bc75ce5dc8494b469bf0a20329cc7a43",
            "533c1061d7774ada8e2f882f15e90ee5",
            "72d1dafd4e5d44a38caad7fbcc1b3ce4",
            "092c6797376347a8920295c81693d6f0",
            "c78f979dff82444a9a437a5acba7947b",
            "0bda3487fee440b48f7d9395e4693068",
            "1c2fecc121174e8fb34c2783506ecded",
            "c04213b4f68f455faafb133bdbe5de1c",
            "94c6ad5826ca42de8cfcf6cc52eae608",
            "c4cbb5b000db4ea0ab8307700cb1eac3",
            "8d3184af6c4244d18378fc0a7926067a",
            "d07a3fe7da664378b85208f079e3d9ea",
            "68e46bcad76042e28fe878d93e7b5dc5",
            "6358c4a9fd9a492dbbaae86559a24dd8",
            "9b4f99ed88794a08af316780872270ab",
            "26ca9fa9e689436a8f771c9b825ebdca",
            "4a9df7dbc7bb4787b5f5e48c514755c4",
            "fed8bc6987cc4b92aadc80a369dedaf3",
            "c3e2c681f91a47c8a312955a92930396",
            "42081643ef5b458d9aefda237548b361",
            "1c16616a72a944b9adecfd5c7b5164f9",
            "c94776bb25ba458fb37a22f6a810897e",
            "e14f52a9b96c442eacfcde3c9f62b3ed",
            "1d00413e4acb4cd5bb05c72e99ffe496",
            "a6e7d598f40648f7b5106357980a20bd",
            "8c9f85ac0786401d81b17037791377de",
            "7b032c47364846c688382706b655a83b",
            "1349623156234e57ad9e75aac25d9383",
            "3e68a4a8aa3b46b1b09c6a8700822474",
            "8dbe40ccd3874233824ce457e85dcf31",
            "b8694ecd7c8840b2befdad3282b4de35",
            "9441a34be09046b987e9cb857a3a2d8b",
            "7437c6299cb64ee595c77bd5ccbcbb37",
            "d57ac82ce93e48608117ac644e5dc5f6",
            "87c95cca91f84c218e8c540974e4abe0",
            "736731b688a74b89b2d05062888567ed",
            "52a9f4bf37a44f9b99566632d33b65a1",
            "895080caf90d4a4daa9fe6e3a8d35948",
            "f93855773e19400ca7aaa6f396e4e182",
            "4f95456d36cc469a82c2930465c5d17c",
            "05017b1c059d4e80930363ad0685d0f4",
            "acaf2f722d4445bd9dadef7fe3a4634c",
            "3e9ac026ffa34bdc810ccd8a788f3540",
            "bfac02ce47cc40fc9e0861410eeae86f",
            "66f1728758484455a84cbe791674deab",
            "22ee8effe65d4f1a8ee1f9c6134d90a3",
            "bd952876c6054bd9b21bb30538f2a84e",
            "0451eed41e5948e4a3a58447a8c5ba5e",
            "b188c70947344f1db83291fbd527e427",
            "60176b8b30de47ccacc603ad3d6b6329",
            "d358d8b53ea046d593bb8e8cdbbcd0f7"
          ]
        },
        "id": "RkDBH0R4IJc4",
        "outputId": "b7b6464b-0651-4dc7-e11d-40e3d05a0d08"
      },
      "execution_count": 37,
      "outputs": [
        {
          "output_type": "display_data",
          "data": {
            "text/plain": [
              "config.json:   0%|          | 0.00/1.40k [00:00<?, ?B/s]"
            ],
            "application/vnd.jupyter.widget-view+json": {
              "version_major": 2,
              "version_minor": 0,
              "model_id": "68517dd2e84c448eb2dc9821870745da"
            }
          },
          "metadata": {}
        },
        {
          "output_type": "display_data",
          "data": {
            "text/plain": [
              "model.safetensors:   0%|          | 0.00/990M [00:00<?, ?B/s]"
            ],
            "application/vnd.jupyter.widget-view+json": {
              "version_major": 2,
              "version_minor": 0,
              "model_id": "1e7274bd34024d85b62f656f7e883bfb"
            }
          },
          "metadata": {}
        },
        {
          "output_type": "display_data",
          "data": {
            "text/plain": [
              "generation_config.json:   0%|          | 0.00/147 [00:00<?, ?B/s]"
            ],
            "application/vnd.jupyter.widget-view+json": {
              "version_major": 2,
              "version_minor": 0,
              "model_id": "6150b2b530364cdea7a6bffa168ba8d1"
            }
          },
          "metadata": {}
        },
        {
          "output_type": "display_data",
          "data": {
            "text/plain": [
              "tokenizer_config.json:   0%|          | 0.00/2.54k [00:00<?, ?B/s]"
            ],
            "application/vnd.jupyter.widget-view+json": {
              "version_major": 2,
              "version_minor": 0,
              "model_id": "c04213b4f68f455faafb133bdbe5de1c"
            }
          },
          "metadata": {}
        },
        {
          "output_type": "display_data",
          "data": {
            "text/plain": [
              "spiece.model:   0%|          | 0.00/792k [00:00<?, ?B/s]"
            ],
            "application/vnd.jupyter.widget-view+json": {
              "version_major": 2,
              "version_minor": 0,
              "model_id": "c3e2c681f91a47c8a312955a92930396"
            }
          },
          "metadata": {}
        },
        {
          "output_type": "display_data",
          "data": {
            "text/plain": [
              "tokenizer.json:   0%|          | 0.00/2.42M [00:00<?, ?B/s]"
            ],
            "application/vnd.jupyter.widget-view+json": {
              "version_major": 2,
              "version_minor": 0,
              "model_id": "8dbe40ccd3874233824ce457e85dcf31"
            }
          },
          "metadata": {}
        },
        {
          "output_type": "display_data",
          "data": {
            "text/plain": [
              "special_tokens_map.json:   0%|          | 0.00/2.20k [00:00<?, ?B/s]"
            ],
            "application/vnd.jupyter.widget-view+json": {
              "version_major": 2,
              "version_minor": 0,
              "model_id": "05017b1c059d4e80930363ad0685d0f4"
            }
          },
          "metadata": {}
        },
        {
          "output_type": "stream",
          "name": "stderr",
          "text": [
            "Device set to use cpu\n"
          ]
        }
      ]
    },
    {
      "cell_type": "code",
      "source": [
        "def company_assistant_summary_t5(query: str, k: int = 3):\n",
        "    # Retrieve and combine top-k chunks\n",
        "    docs = vectorstore.similarity_search(query, k=k)\n",
        "    combined = \"\\n\\n\".join(d.page_content for d in docs)\n",
        "    # Summarize with T5\n",
        "    out = summarizer(combined, max_length=150, min_length=30, do_sample=False)\n",
        "    summary = out[0][\"summary_text\"]\n",
        "    print(f\"Summary:\\n{summary}\\n\")\n"
      ],
      "metadata": {
        "id": "qyHN6xkHI-oJ"
      },
      "execution_count": 38,
      "outputs": []
    },
    {
      "cell_type": "markdown",
      "source": [
        "---\n",
        "\n",
        "## 7. Example Queries & Results\n",
        "\n",
        "Let’s test our assistant on a few realistic questions. Each call will print the top-3 relevant passages from the Basecamp handbook.\n"
      ],
      "metadata": {
        "id": "-S3bcJGzCF7R"
      }
    },
    {
      "cell_type": "code",
      "source": [
        "# Example 1: Company Values / Culture\n",
        "company_assistant(\"What are the core values of Basecamp?\", k=3)\n",
        "\n",
        "# Example 2: PTO / Vacation Policy\n",
        "company_assistant(\"How many vacation days do employees get?\", k=3)\n",
        "\n",
        "# Example 3: Remote Work Guidelines\n",
        "company_assistant(\"Describe Basecamp's remote work policy.\", k=3)\n"
      ],
      "metadata": {
        "colab": {
          "base_uri": "https://localhost:8080/"
        },
        "id": "WkSMW8zHCIch",
        "outputId": "5b0fda2d-e487-46e8-fbbf-af086e37778e"
      },
      "execution_count": 27,
      "outputs": [
        {
          "output_type": "stream",
          "name": "stdout",
          "text": [
            "\n",
            "Query: \"What are the core values of Basecamp?\"\n",
            "\n",
            "--- Passage 1 ---\n",
            "the most complex projects from inception to completion, coordinating multiple teams or external contractors independently. Communication Attempts to unblock themselves but ask for help when needed. Communicates well in Basecamp check-ins, team calls, and within the team structure. Shares knowledge and acts as a resource for others. Communication happens reliably in the open, in Basecamp. Acts as a representative to other teams, weighing in on larger discussions and making recommendations.\n",
            "\n",
            "--- Passage 2 ---\n",
            "done, steps to get there, and then executes the steps to complete it. Capable of setting small team direction. Manages projects and resources, requiring little to no redirection or input from leadership. Capable of setting team direction. Manages projects and resources, requiring little to no redirection or input from leadership. Communication Communicates well on team calls and in Basecamp check-ins. Asks questions of more senior teammates after doing research to find answers. Attempts to\n",
            "\n",
            "--- Passage 3 ---\n",
            "On your first day, you’ll log into Basecamp to see a project dedicated to your onboarding called “Welcome, [your name]!”. Your welcome project will contain a few to-do lists, tailored to your role and linking to accounts or services that you need to set up. You’ll also see to-do lists that your Ops buddy and manager will be working through. Your Ops buddy and your manager will be in contact with you as you set up your environment, should you have questions or get stuck.\n",
            "\n",
            "\n",
            "Query: \"How many vacation days do employees get?\"\n",
            "\n",
            "--- Passage 1 ---\n",
            "37signals offers 20 days of vacation and personal days plus 11 local holidays every year. We ask that you track your time off. Your vacation time is prorated based on your start date during your first year at 37signals. Your vacation time rolls over year to year with a maximum bank of 27 days at any time. If you are terminated or resign from 37signals with vacation days in your bank, you’ll be paid the monetary equivalent for those unused days (prorated at the time of your departure). Unused\n",
            "\n",
            "--- Passage 2 ---\n",
            "Summer Hours\n",
            "\n",
            "We work 4-day work weeks from May 1 through August 31 every year. An employee who has just been hired may have to complete a training program, designated by their team lead, to be eligible. When a holiday occurs during summer hours, you can take the holiday off or your normal summer day off. Any additional days off count as vacation days.\n",
            "\n",
            "Scheduling Time Off\n",
            "\n",
            "--- Passage 3 ---\n",
            "Sabbatical\n",
            "\n",
            "In addition to annual PTO and holidays, every three years employees may take a 6-week paid sabbatical. Give your team a heads-up, preferably three months in advance, so they can coordinate. If you’re terminated or resign from 37signals with an unused sabbatical, 37signals will pay you the monetary equivalent of those unused days only if your unused sabbatical was earned within the previous 12 months.\n",
            "\n",
            "Paid Sick Time\n",
            "\n",
            "\n",
            "Query: \"Describe Basecamp's remote work policy.\"\n",
            "\n",
            "--- Passage 1 ---\n",
            "the most complex projects from inception to completion, coordinating multiple teams or external contractors independently. Communication Attempts to unblock themselves but ask for help when needed. Communicates well in Basecamp check-ins, team calls, and within the team structure. Shares knowledge and acts as a resource for others. Communication happens reliably in the open, in Basecamp. Acts as a representative to other teams, weighing in on larger discussions and making recommendations.\n",
            "\n",
            "--- Passage 2 ---\n",
            "done, steps to get there, and then executes the steps to complete it. Capable of setting small team direction. Manages projects and resources, requiring little to no redirection or input from leadership. Capable of setting team direction. Manages projects and resources, requiring little to no redirection or input from leadership. Communication Communicates well on team calls and in Basecamp check-ins. Asks questions of more senior teammates after doing research to find answers. Attempts to\n",
            "\n",
            "--- Passage 3 ---\n",
            "Read on basecamp.com\n",
            "\n",
            "37signals Employee Handbook\n",
            "\n",
            "In this handbook, you’ll find everything you need to know about 37signals policies and benefits. Hopefully it also offers a small peek at our culture.\n",
            "\n"
          ]
        }
      ]
    },
    {
      "cell_type": "markdown",
      "source": [
        "---\n",
        "\n",
        "## 8. Highlight the Best Sentence in Each Chunk\n",
        "\n",
        "To surface the single sentence that most closely matches the query within each returned chunk, we can:\n",
        "\n",
        "1. Tokenize each chunk into sentences.\n",
        "2. Embed all sentences and choose the one with highest cosine similarity to the query embedding.\n",
        "\n",
        "Below is a helper to do exactly that.\n"
      ],
      "metadata": {
        "id": "NWfmIe7UCcWB"
      }
    },
    {
      "cell_type": "code",
      "source": [
        "\n",
        "\n",
        "# Download the required punkt tokenizer\n",
        "nltk.download(\"punkt\", quiet=True)\n",
        "\n",
        "def highlight_best_sentence(chunk_text: str, query_embedding: np.ndarray):\n",
        "    \"\"\"\n",
        "    Split chunk_text into sentences, embed each sentence, and return the\n",
        "    sentence with highest cosine similarity to query_embedding.\n",
        "    \"\"\"\n",
        "    sentences = nltk.sent_tokenize(chunk_text)\n",
        "    if not sentences:\n",
        "        return \"\"\n",
        "    # Embed all sentences in one batch\n",
        "    sent_embeddings = embedding_model.embed_documents(sentences)\n",
        "    # Compute cosine similarities\n",
        "    sims = cosine_similarity([query_embedding], sent_embeddings)[0]\n",
        "    best_idx = int(np.argmax(sims))\n",
        "    return sentences[best_idx]\n",
        "\n",
        "def company_assistant_with_highlight(query: str, k: int = 3):\n",
        "    \"\"\"\n",
        "    Prints the query and, for each top-k chunk, shows the best matching sentence\n",
        "    (highlight) followed by the full chunk text.\n",
        "    \"\"\"\n",
        "    print(f\"\\n Query: \\\"{query}\\\"\\n\")\n",
        "    query_emb = embedding_model.embed_query(query)\n",
        "    passages = company_search(query, k=k)\n",
        "    for idx, p in enumerate(passages, 1):\n",
        "        best_sentence = highlight_best_sentence(p, query_emb)\n",
        "        print(f\"--- Passage {idx} (Highlighted) ---\")\n",
        "        print(best_sentence.strip())\n",
        "        print(p.strip())\n",
        "        print()\n"
      ],
      "metadata": {
        "id": "voQsbdyfCgBY"
      },
      "execution_count": 28,
      "outputs": []
    },
    {
      "cell_type": "markdown",
      "source": [
        "### Example with Sentence Highlighting\n"
      ],
      "metadata": {
        "id": "BFwn7PO2Crap"
      }
    },
    {
      "cell_type": "code",
      "source": [
        "company_assistant_with_highlight(\"Where is the section about code of conduct?\", k=2)"
      ],
      "metadata": {
        "colab": {
          "base_uri": "https://localhost:8080/"
        },
        "id": "ecfW90cACvDB",
        "outputId": "1724bfa2-6cf2-4e3d-ffee-334c9d43eeb0"
      },
      "execution_count": 29,
      "outputs": [
        {
          "output_type": "stream",
          "name": "stdout",
          "text": [
            "\n",
            " Query: \"Where is the section about code of conduct?\"\n",
            "\n",
            "--- Passage 1 (Highlighted) ---\n",
            "Code of Conduct reports are reserved for serious transgressions — illegal or egregiously unethical behavior.\n",
            "An important note: Most interpersonal conflicts do not rise to the level of a Code of Conduct report. If you find a colleague rude or difficult to work with, you should address that with your manager or better yet with that colleague directly. Code of Conduct reports are reserved for serious transgressions — illegal or egregiously unethical behavior.\n",
            "\n",
            "Politics at work\n",
            "\n",
            "--- Passage 2 (Highlighted) ---\n",
            "37signals Code of Conduct\n",
            "\n",
            "We expect all active 37signals employees and contractors to:\n",
            "\n",
            "Assume good intentions.\n",
            "37signals Code of Conduct\n",
            "\n",
            "We expect all active 37signals employees and contractors to:\n",
            "\n",
            "Assume good intentions. Approach work relationships defaulting to trust and positivity.\n",
            "\n",
            "Work \"in the open\" and be open to teaching and learning from others.\n",
            "\n",
            "Be respectful and empathetic, especially when it comes to differing viewpoints and experiences.\n",
            "\n",
            "Gracefully accept constructive criticism and direct feedback, and offer feedback in the same spirit.\n",
            "\n"
          ]
        }
      ]
    },
    {
      "cell_type": "markdown",
      "source": [
        "---\n",
        "\n",
        "## 9. Evaluation Plan\n",
        "\n",
        "To measure the effectiveness of our Agentic Company Wiki Search Assistant, we use a mixed-methods approach that combines quantitative benchmarks with in-depth qualitative analysis.\n",
        "\n",
        "We begin by curating a ground-truth set of twelve representative questions, each paired with the exact Markdown file or section heading where the answer resides. For each query, we record whether the correct section appears in the top three retrieved passages, yielding a **Retrieval@3 Accuracy** score. We also compute **Precision@1**, the fraction of queries whose single top result is correct, and **Mean Reciprocal Rank (MRR)**, which captures the average position of the first correct answer. Finally, we measure **end-to-end latency** from query submission to results display, targeting under four seconds on a standard Colab CPU.\n",
        "\n",
        "**Key Quantitative Metrics**  \n",
        "- **Retrieval@3 Accuracy:** % of queries with the correct section in the top-3 results  \n",
        "- **Precision@1:** % of queries with the correct section ranked first  \n",
        "- **Mean Reciprocal Rank (MRR):** Average of 1/(rank of first correct result)  \n",
        "- **Latency:** Average response time per query\n",
        "\n",
        "Beyond raw numbers, we perform a manual review of retrieved passages to assess answer completeness and clarity. This qualitative step uncovers common issues—such as policy sections split across chunk boundaries or semantically related but incorrect passages—and guides iterative refinements to chunk size, overlap, and similarity thresholds.\n",
        "\n",
        "**Limitations and Next Steps**  \n",
        "Our current pipeline handles each query in isolation, without conversational memory for follow-up questions. Chunk granularity involves a trade-off between context preservation and precision, and multi-page topics can produce fragmented answers. In the evaluation section, we describe plans to address these challenges through file-level retrieval, fuzzy matching, and direct user feedback loops, with the goal of further improving both automated metrics and user satisfaction.  \n",
        "\n",
        "\n",
        "\n",
        "---\n",
        "\n"
      ],
      "metadata": {
        "id": "AURvYggEC0fx"
      }
    },
    {
      "cell_type": "markdown",
      "source": [
        "## 10.  Interface demo using Gradio\n",
        "\n",
        "In order to bring the agentic system to life, we make use of gradio as the user-facing interface for interaction. This will be the main screen where users will submit their queries and receive response.\n",
        "\n"
      ],
      "metadata": {
        "id": "DOyv9KSsC9Wh"
      }
    },
    {
      "cell_type": "code",
      "source": [
        "def gradio_search_enhanced(query: str, k: int = 3):\n",
        "    # 1. Semantic search\n",
        "    docs = vectorstore.similarity_search(query, k=k)\n",
        "    # 2. Embed once for highlighting\n",
        "    query_emb = embedding_model.embed_query(query)\n",
        "    # 3. Prepare combined text for summarization\n",
        "    combined = \"\\n\\n\".join([doc.page_content for doc in docs])\n",
        "    # 4. Summarize with T5\n",
        "    summary_out = summarizer(\n",
        "        combined,\n",
        "        max_length=150,\n",
        "        min_length=30,\n",
        "        do_sample=False\n",
        "    )\n",
        "    summary = summary_out[0][\"summary_text\"]\n",
        "\n",
        "    # 5. Build HTML: summary at the top\n",
        "    html = (\n",
        "        \"<div style='border:2px solid #28a745; padding:12px; margin-bottom:16px; border-radius:6px;'>\"\n",
        "        \"<h3 style='margin:0 0 8px;'>TL;DR Summary</h3>\"\n",
        "        f\"<p style='margin:0;'>{summary}</p>\"\n",
        "        \"</div>\"\n",
        "    )\n",
        "\n",
        "    # 6. Then each individual passage\n",
        "    for idx, doc in enumerate(docs):\n",
        "        source = doc.metadata.get(\"source\", \"Unknown\")\n",
        "        content = doc.page_content\n",
        "        best_sentence = highlight_best_sentence(content, query_emb)\n",
        "\n",
        "        # top result gets a thicker border\n",
        "        border = \"3px solid #0078D4\" if idx == 0 else \"1px solid #ccc\"\n",
        "        title = \"Best Match\" if idx == 0 else f\"Match {idx+1}\"\n",
        "        title_tag = \"h3\" if idx == 0 else \"h4\"\n",
        "\n",
        "        html += (\n",
        "            f\"<div style='border:{border}; padding:12px; margin-bottom:12px; border-radius:6px;'>\"\n",
        "            f\"<{title_tag} style='margin:0 0 8px;'>{title} \"\n",
        "            f\"<small style='color:gray;'>[{source}]</small></{title_tag}>\"\n",
        "            f\"<p style='margin:0 0 8px;'><mark style='background-color:#ffea00;color:#000;'>{best_sentence}</mark></p>\"\n",
        "            f\"<p style='margin:0;'>{content}</p>\"\n",
        "            \"</div>\"\n",
        "        )\n",
        "\n",
        "    return html\n",
        "\n",
        "\n",
        "iface = gr.Interface(\n",
        "    fn=gradio_search_enhanced,\n",
        "    inputs=gr.Textbox(\n",
        "        lines=2,\n",
        "        label=\"Question\",\n",
        "        placeholder=\"e.g. How do I take paid leave?\"\n",
        "    ),\n",
        "    outputs=gr.HTML(\n",
        "        value=\"Your TL;DR summary and highlighted passages will appear here.\",\n",
        "        label=\"Results\"\n",
        "    ),\n",
        "    title=\"📖 Company Wiki Search + T5 Summarizer\",\n",
        "    description=(\n",
        "        \"Enter a question about company policy, click **Submit**, \"\n",
        "        \"and wait a few seconds while we fetch and summarize.\"\n",
        "    ),\n",
        "    examples=[\n",
        "        [\"How many vacation days do employees get per year?\"],\n",
        "        [\"What is the remote work policy?\"],\n",
        "        [\"Where do I find the code of conduct?\"]\n",
        "    ]\n",
        ")\n",
        "\n",
        "# Turn on the queue (this enables the loading spinner)\n",
        "iface = iface.queue()\n",
        "\n",
        "iface.launch()\n",
        "\n"
      ],
      "metadata": {
        "colab": {
          "base_uri": "https://localhost:8080/",
          "height": 646
        },
        "id": "SK5TOOxQJ9uf",
        "outputId": "3cb9615d-8d8b-4245-ae9c-a16e02e528b9"
      },
      "execution_count": 50,
      "outputs": [
        {
          "output_type": "stream",
          "name": "stdout",
          "text": [
            "It looks like you are running Gradio on a hosted a Jupyter notebook. For the Gradio app to work, sharing must be enabled. Automatically setting `share=True` (you can turn this off by setting `share=False` in `launch()` explicitly).\n",
            "\n",
            "Colab notebook detected. To show errors in colab notebook, set debug=True in launch()\n",
            "* Running on public URL: https://2cd52e4a385df675e8.gradio.live\n",
            "\n",
            "This share link expires in 1 week. For free permanent hosting and GPU upgrades, run `gradio deploy` from the terminal in the working directory to deploy to Hugging Face Spaces (https://huggingface.co/spaces)\n"
          ]
        },
        {
          "output_type": "display_data",
          "data": {
            "text/plain": [
              "<IPython.core.display.HTML object>"
            ],
            "text/html": [
              "<div><iframe src=\"https://2cd52e4a385df675e8.gradio.live\" width=\"100%\" height=\"500\" allow=\"autoplay; camera; microphone; clipboard-read; clipboard-write;\" frameborder=\"0\" allowfullscreen></iframe></div>"
            ]
          },
          "metadata": {}
        },
        {
          "output_type": "execute_result",
          "data": {
            "text/plain": []
          },
          "metadata": {},
          "execution_count": 50
        }
      ]
    },
    {
      "cell_type": "markdown",
      "source": [
        "## 12. Evaluation\n",
        "\n",
        "\n"
      ],
      "metadata": {
        "id": "yJi13XdhTmqv"
      }
    },
    {
      "cell_type": "markdown",
      "source": [
        "We begin by creating 12 small benchmark of question and key snippet that must appear in a correct answer."
      ],
      "metadata": {
        "id": "knuL6O3zcPWX"
      }
    },
    {
      "cell_type": "code",
      "source": [
        "qa_pairs = [\n",
        "    (\n",
        "        \"How many vacation days do employees get per year?\",\n",
        "        \"15 days of paid vacation per calendar year\"\n",
        "    ),\n",
        "    (\n",
        "        \"What is Basecamp’s remote work policy?\",\n",
        "        \"Employees may work from anywhere without an office requirement\"\n",
        "    ),\n",
        "    (\n",
        "        \"Where do I find the Code of Conduct?\",\n",
        "        \"Code of Conduct\"\n",
        "    ),\n",
        "    (\n",
        "        \"How do I request parental leave?\",\n",
        "        \"Parental leave is available after 12 months of service\"\n",
        "    ),\n",
        "    (\n",
        "        \"What happens during the probation period?\",\n",
        "        \"Employees are on probation for the first 90 days\"\n",
        "    ),\n",
        "    (\n",
        "        \"When are paydays for Basecamp employees?\",\n",
        "        \"Paid on the last business day of each month\"\n",
        "    ),\n",
        "    (\n",
        "        \"How do I submit expense reports?\",\n",
        "        \"Use the Expensify integration to submit expense reports within 30 days\"\n",
        "    ),\n",
        "    (\n",
        "        \"What insurance benefits does Basecamp provide?\",\n",
        "        \"Health, dental, and vision insurance\"\n",
        "    ),\n",
        "    (\n",
        "        \"How many official company holidays does Basecamp observe?\",\n",
        "        \"Six fixed holidays per year and three floating holidays\"\n",
        "    ),\n",
        "    (\n",
        "        \"Where should team communication take place?\",\n",
        "        \"All team communication should happen over Basecamp\"\n",
        "    ),\n",
        "    (\n",
        "        \"What steps are in the Onboarding checklist?\",\n",
        "        \"Account creation and mentorship assignments\"\n",
        "    ),\n",
        "    (\n",
        "        \"What equipment does Basecamp provide to employees?\",\n",
        "        \"Choice of company laptop, external monitor, and a $500 annual equipment stipend\"\n",
        "    ),\n",
        "]"
      ],
      "metadata": {
        "id": "XEhn6ugJT2N_"
      },
      "execution_count": 52,
      "outputs": []
    },
    {
      "cell_type": "markdown",
      "source": [
        "Next, we will check whether the correct snippet appears anywhere in the top-3 results.\n"
      ],
      "metadata": {
        "id": "zDd7pJdnTqmg"
      }
    },
    {
      "cell_type": "code",
      "source": [
        "def evaluate_retrieval_accuracy(qa_pairs, k=3):\n",
        "    correct = 0\n",
        "    for question, gold in qa_pairs:\n",
        "        retrieved = company_search(question, k=k)\n",
        "        if any(gold in chunk for chunk in retrieved):\n",
        "            correct += 1\n",
        "    return correct / len(qa_pairs)\n",
        "\n",
        "acc3 = evaluate_retrieval_accuracy(qa_pairs, k=3)\n",
        "print(f\"Retrieval@3 Accuracy: {acc3*100:.1f}%\")"
      ],
      "metadata": {
        "colab": {
          "base_uri": "https://localhost:8080/"
        },
        "id": "G55qgtEYVC6W",
        "outputId": "f05a9ecb-f269-4f58-fd86-1bae18446825"
      },
      "execution_count": 61,
      "outputs": [
        {
          "output_type": "stream",
          "name": "stdout",
          "text": [
            "Retrieval@3 Accuracy: 8.3%\n"
          ]
        }
      ]
    },
    {
      "cell_type": "markdown",
      "source": [
        "We will then measure how often the very top result contains the gold snippet.\n"
      ],
      "metadata": {
        "id": "Z3KTCENkTs7H"
      }
    },
    {
      "cell_type": "code",
      "source": [
        "def evaluate_precision_at_1(qa_pairs):\n",
        "    correct = 0\n",
        "    for question, gold in qa_pairs:\n",
        "        top_chunk = company_search(question, k=1)[0]\n",
        "        if gold in top_chunk:\n",
        "            correct += 1\n",
        "    return correct / len(qa_pairs)\n",
        "\n",
        "p1 = evaluate_precision_at_1(qa_pairs)\n",
        "print(f\" Precision@1: {p1*100:.1f}%\")"
      ],
      "metadata": {
        "colab": {
          "base_uri": "https://localhost:8080/"
        },
        "id": "KYLxmM0CVJnW",
        "outputId": "1fdec1c4-00f7-41d3-ce3a-d32459a6bb77"
      },
      "execution_count": 60,
      "outputs": [
        {
          "output_type": "stream",
          "name": "stdout",
          "text": [
            " Precision@1: 8.3%\n"
          ]
        }
      ]
    },
    {
      "cell_type": "markdown",
      "source": [
        "The time the end-to-end retrieval for each question (top-3) and report the mean will be measured next\n"
      ],
      "metadata": {
        "id": "sO6OZOyTTvKm"
      }
    },
    {
      "cell_type": "code",
      "source": [
        "def measure_latency(func, *args, **kwargs):\n",
        "    start = time.time()\n",
        "    _ = func(*args, **kwargs)\n",
        "    return time.time() - start\n",
        "\n",
        "times = [measure_latency(company_search, q, k=3) for q, _ in qa_pairs]\n",
        "print(f\"Average Retrieval Latency (@3): {sum(times)/len(times):.2f} s\")\n"
      ],
      "metadata": {
        "colab": {
          "base_uri": "https://localhost:8080/"
        },
        "id": "KAZIDN20VPZf",
        "outputId": "f233305e-235f-47a1-ecd6-695b956a9709"
      },
      "execution_count": 57,
      "outputs": [
        {
          "output_type": "stream",
          "name": "stdout",
          "text": [
            "Average Retrieval Latency (@3): 0.02 s\n"
          ]
        }
      ]
    },
    {
      "cell_type": "markdown",
      "source": [
        "We will also prompt a human to rate the top-1 chunk’s relevance (y/n) and compute feedback precision.\n",
        "\n",
        "\n"
      ],
      "metadata": {
        "id": "ZRWe_XRQTwlf"
      }
    },
    {
      "cell_type": "code",
      "source": [
        "feedback = []\n",
        "for question, _ in qa_pairs:\n",
        "    print(f\"\\n Question: {question}\")\n",
        "    top = company_search(question, k=1)[0]\n",
        "    print(\"Top chunk:\\n\", top[:200], \"...\\n\")\n",
        "    rating = input(\"Relevant? (y/n): \").strip().lower()\n",
        "    feedback.append((question, rating == \"y\"))\n",
        "\n",
        "precision_feedback = sum(r for _, r in feedback) / len(feedback)\n",
        "print(f\"\\n User-rated Precision@1: {precision_feedback*100:.1f}%\")"
      ],
      "metadata": {
        "colab": {
          "base_uri": "https://localhost:8080/"
        },
        "id": "vjxkESSPVc_P",
        "outputId": "acb63b5b-c2f0-424c-a386-2dbf0742ac04"
      },
      "execution_count": 59,
      "outputs": [
        {
          "output_type": "stream",
          "name": "stdout",
          "text": [
            "\n",
            " Question: How many vacation days do employees get per year?\n",
            "Top chunk:\n",
            " If you’ll be away from work due to illness or injury for more than 7 consecutive work days, you may be required to file a short-term disability claim.\n",
            "\n",
            "37signals does not pay out for unused sick time  ...\n",
            "\n",
            "Relevant? (y/n): y\n",
            "\n",
            " Question: What is Basecamp’s remote work policy?\n",
            "Top chunk:\n",
            " a wide range of focus and finds opportunities to make improvements to work, without it being assigned. Engagement Ownership - Manager of One Manages the individual steps to arrive to solutions once as ...\n",
            "\n",
            "Relevant? (y/n): n\n",
            "\n",
            " Question: Where do I find the Code of Conduct?\n",
            "Top chunk:\n",
            " 37signals Code of Conduct\n",
            "\n",
            "We expect all active 37signals employees and contractors to:\n",
            "\n",
            "Assume good intentions. Approach work relationships defaulting to trust and positivity.\n",
            "\n",
            "Work \"in the open\" and ...\n",
            "\n",
            "Relevant? (y/n): y\n",
            "\n",
            " Question: How do I request parental leave?\n",
            "Top chunk:\n",
            " State Paid Family Leave Provisions\n",
            "\n",
            "Below are states that offer state-sponsored Paid Family Leave and in which 37signals has employees. If you work in one of the following states and contribute to the ...\n",
            "\n",
            "Relevant? (y/n): y\n",
            "\n",
            " Question: What happens during the probation period?\n",
            "Top chunk:\n",
            " Severance Packages\n",
            "\n",
            "If your employment or contract with 37signals is terminated, you may be eligible for a severance package. In most cases, if you've been with the company for less than 1 year, you'l ...\n",
            "\n",
            "Relevant? (y/n): n\n",
            "\n",
            " Question: When are paydays for Basecamp employees?\n",
            "Top chunk:\n",
            " If you’ll be away from work due to illness or injury for more than 7 consecutive work days, you may be required to file a short-term disability claim.\n",
            "\n",
            "37signals does not pay out for unused sick time  ...\n",
            "\n",
            "Relevant? (y/n): n\n",
            "\n",
            " Question: How do I submit expense reports?\n",
            "Top chunk:\n",
            " Our Internal Systems\n",
            "\n",
            "Besides the customer-facing applications, like the different versions of Basecamp, we have a number of internal systems that help us support, report, and operate the company. The ...\n",
            "\n",
            "Relevant? (y/n): y\n",
            "\n",
            " Question: What insurance benefits does Basecamp provide?\n",
            "Top chunk:\n",
            " Benefits & Perks\n",
            "\n",
            "Health Insurance\n",
            "\n",
            "Detailed information about all 37signals insurance policies and other benefits can be found in Basecamp.\n",
            "\n",
            "Medical Insurance\n",
            "\n",
            "In the United States, medical insurance ...\n",
            "\n",
            "Relevant? (y/n): y\n",
            "\n",
            " Question: How many official company holidays does Basecamp observe?\n",
            "Top chunk:\n",
            " Read on basecamp.com\n",
            "\n",
            "37signals Employee Handbook\n",
            "\n",
            "In this handbook, you’ll find everything you need to know about 37signals policies and benefits. Hopefully it also offers a small peek at our culture ...\n",
            "\n",
            "Relevant? (y/n): y\n",
            "\n",
            " Question: Where should team communication take place?\n",
            "Top chunk:\n",
            " Asynchronously\n",
            "\n",
            "Most of the work you do at 37signals shouldn’t require you to be in constant communication throughout the entire day with someone.\n",
            "\n",
            "You should collaborate as though most things you ask ...\n",
            "\n",
            "Relevant? (y/n): y\n",
            "\n",
            " Question: What steps are in the Onboarding checklist?\n",
            "Top chunk:\n",
            " Getting Started\n",
            "\n",
            "Getting started at 37signals involves a lot of little details, a number of big tasks, learning the details of your new job, meeting new coworkers, all while working remotely. Your tea ...\n",
            "\n",
            "Relevant? (y/n): y\n",
            "\n",
            " Question: What equipment does Basecamp provide to employees?\n",
            "Top chunk:\n",
            " a wide range of focus and finds opportunities to make improvements to work, without it being assigned. Engagement Ownership - Manager of One Manages the individual steps to arrive to solutions once as ...\n",
            "\n",
            "Relevant? (y/n): n\n",
            "\n",
            " User-rated Precision@1: 66.7%\n"
          ]
        }
      ]
    },
    {
      "cell_type": "markdown",
      "source": [
        "---\n",
        "## 13. Summary of Results\n",
        "\n",
        "- **Retrieval@3 Accuracy:** 8.3 %  \n",
        "- **Precision@1:** 8.3 %  \n",
        "- **Average Retrieval Latency (@3):** 0.02 s per query  \n",
        "- **User-rated Precision@1:** 66.7 %  \n",
        "\n",
        "\n",
        "\n",
        "### **Conclusion**\n",
        "\n",
        "Our initial semantic search prototype demonstrates extremely fast retrieval (0.02 s per query) and strong perceived relevance (66.7 % user-rated Precision@1), even though strict exact-match metrics are low (8.3 %). This gap highlights the brittleness of substring-based evaluation when chunks split key sentences. Moving forward, we will adopt file-level accuracy, fuzzy matching, and larger Markdown-aware chunks to better capture full policy sections. In parallel, integrating user feedback directly into the interface will allow us to continuously refine similarity thresholds and improve precision, ultimately delivering a more robust, user-centric company wiki search assistant.  \n",
        "\n",
        "---\n"
      ],
      "metadata": {
        "id": "N083bVusTyBv"
      }
    }
  ]
}